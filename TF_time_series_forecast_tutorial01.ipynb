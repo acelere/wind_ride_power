{
 "cells": [
  {
   "cell_type": "markdown",
   "metadata": {},
   "source": [
    "Library imports - multiprocessing version, with filter"
   ]
  },
  {
   "cell_type": "markdown",
   "metadata": {},
   "source": [
    "test the fit parser to see if we have more data in"
   ]
  },
  {
   "cell_type": "code",
   "execution_count": null,
   "metadata": {
    "jupyter": {
     "source_hidden": true
    },
    "tags": []
   },
   "outputs": [],
   "source": [
    "import pytz\n",
    "from timezonefinder import TimezoneFinder\n",
    "\n",
    "import numpy as np\n",
    "import scipy.signal as signal\n",
    "from scipy import interpolate\n",
    "import pandas as pd\n",
    "from pandas.plotting import register_matplotlib_converters\n",
    "register_matplotlib_converters()\n",
    "import matplotlib.pyplot as plt\n",
    "\n",
    "import time, sys\n",
    "import re\n",
    "\n",
    "import xml.etree.ElementTree as ET\n",
    "import lxml.etree\n",
    "import fitparse\n",
    "\n",
    "from datetime import datetime, timedelta\n",
    "from typing import Dict, Optional, Any, Union, Tuple\n",
    "\n",
    "import dateutil.parser as dp\n",
    "\n",
    "\n",
    "from multiprocessing import Pool, cpu_count\n",
    "\n",
    "\n",
    "    \n",
    "#%matplotlib inline\n",
    "#https://github.com/MrMinimal64/timezonefinder\n",
    "\n",
    "utc=pytz.UTC\n",
    "\n",
    "#debug = True\n",
    "\n",
    "input_types = ['FIT', 'TCX', 'GPX']\n",
    "input_type = input_types[0]\n",
    "\n",
    "debug = True\n",
    "filepath = './sample_data/'\n",
    "\n",
    "if debug == False:\n",
    "    input_file = input('Enter file name (must be in same directory as this program for now): ')\n",
    "else:\n",
    "    input_file = './sample_data/wahoo_kickr.fit'\n",
    "    input_type = input_types[0]\n",
    "\n"
   ]
  },
  {
   "cell_type": "markdown",
   "metadata": {},
   "source": [
    "FIT file input (it has more data than the TCX export)"
   ]
  },
  {
   "cell_type": "code",
   "execution_count": null,
   "metadata": {
    "jupyter": {
     "source_hidden": true
    },
    "tags": []
   },
   "outputs": [],
   "source": [
    "def get_data_from_record(record):\n",
    "    new_record = {}\n",
    "    for data in record:\n",
    "        #____\n",
    "        if data.name.find('accumulated_power') >= 0:\n",
    "            new_record['acc_power'] = data.value\n",
    "        if data.name.find('cadence') >= 0 and data.name.find('cadence') < 8:\n",
    "            new_record['cadence'] = data.value\n",
    "        if data.name.find('latitude') >= 0:\n",
    "            new_record['lat'] = data.value\n",
    "        if data.name.find('longitude') >= 0:\n",
    "            new_record['lon'] = data.value\n",
    "        if data.name.find('elevation') >= 0:\n",
    "            new_record['elev'] = data.value\n",
    "        if data.name.find('timestamp') >= 0:\n",
    "            new_record['ts'] = data.value\n",
    "        if data.name.find('heart_rate') >= 0:\n",
    "            new_record['heart_rate'] = data.value\n",
    "        if data.name.find('fractional_cadence') >= 0:\n",
    "            new_record['frac_cadence'] = data.value\n",
    "        if data.name.find('speed') >= 0:\n",
    "            new_record['gs'] = data.value\n",
    "        if data.name.find('enhanced_speed') >= 0:\n",
    "            new_record['e_gs'] = data.value\n",
    "        if data.name.find('power') >= 0:\n",
    "            new_record['m_power'] = data.value\n",
    "        if data.name.find('resistance') >= 0:\n",
    "            new_record['resist'] = data.value\n",
    "        if data.name.find('temperature') >= 0:\n",
    "            new_record['amb_temp'] = data.value\n",
    "        if data.name.find('distance') >= 0:\n",
    "            new_record['dist'] = data.value\n",
    "    \n",
    "    return new_record"
   ]
  },
  {
   "cell_type": "code",
   "execution_count": null,
   "metadata": {
    "jupyter": {
     "source_hidden": true
    },
    "tags": []
   },
   "outputs": [],
   "source": [
    "def read_FIT_file(fitfilename):\n",
    "    # Load the FIT file\n",
    "    fitfile = fitparse.FitFile(fitfilename)\n",
    "\n",
    "    # Iterate over all messages of type \"record\"\n",
    "    # (other types include \"device_info\", \"file_creator\", \"event\", etc)\n",
    "    # accumulated power in kJ\n",
    "\n",
    "    track = pd.DataFrame()\n",
    "    #msg_count = 0 #debug\n",
    "    #n_msg = 300 #debug\n",
    "    \n",
    "    for record in fitfile.get_messages(\"record\"):\n",
    "\n",
    "        # Records can contain multiple pieces of data (ex: timestamp, latitude, longitude, etc)\n",
    "        new_record = get_data_from_record(record)\n",
    "        track = track.append(new_record, ignore_index=True)\n",
    "        #print(new_record) #debub\n",
    "        #msg_count += 1 #debug\n",
    "        #if msg_count > n_msg: break #debug\n",
    "    track['delta_t'] = track['ts'].diff()\n",
    "    track['delta_cad'] = track['cadence'].diff()\n",
    "    track.dropna(inplace=True)\n",
    "    \n",
    "    #track.set_index('ts', inplace=True)\n",
    "    return track"
   ]
  },
  {
   "cell_type": "code",
   "execution_count": null,
   "metadata": {
    "jupyter": {
     "source_hidden": true
    },
    "tags": []
   },
   "outputs": [],
   "source": [
    "'''\n",
    "#não deu certo implementar multiprocessing porque o objeto não pode ser gravado em pickle\n",
    "\n",
    "def get_data_from_list(list_of_trkpts):\n",
    "    df = pd.DataFrame()\n",
    "    for trkpt in list_of_trkpts:\n",
    "        one_record = get_data_from_record(trkpt)\n",
    "        df = df.append(one_record, ignore_index=True)\n",
    "    return df.set_index('ts')\n",
    "n_proc = cpu_count() #number of multiprocesses in pool\n",
    "\n",
    "if input_type == 'FIT':\n",
    "    # Load the FIT file\n",
    "    fitfile = fitparse.FitFile(\"./sample_data/wahoo_kickr.fit\")\n",
    "    # need to make a list to be able to do multiprocessing\n",
    "    #trkpoints = [trkpt for trkpt in fitfile.get_messages('record')]\n",
    "    #trkpoints = [trkpt for trkpt in fitfile.messages]\n",
    "    trkpoints = [trkpt for trkpt in fitfile.get_messages(\"record\")]\n",
    "    trk_pts_number = len(trkpoints)\n",
    "    trk_pts_set = []\n",
    "        \n",
    "    for i in range(n_proc):\n",
    "        if i < (n_proc - 1):\n",
    "            trk_pts_set.append(trkpoints[int(trk_pts_number / n_proc) * (i):(int(trk_pts_number / n_proc) * (i+1) -1)])\n",
    "        else:\n",
    "            trk_pts_set.append(trkpoints[int(trk_pts_number / n_proc) * (i):trk_pts_number])\n",
    "\n",
    "    #get_trk_pts_data(trk_pts_set[0])\n",
    "    n_proc\n",
    "    pool = Pool(n_proc)\n",
    "    #map guarantees the order back\n",
    "    results = pool.map(get_data_from_list, trk_pts_set)\n",
    "    pool.join\n",
    "    #join results:\n",
    "    track = pd.DataFrame()\n",
    "    for result in results:\n",
    "        track = track.append(result.set_index('ts'))\n",
    "    track['ts'] = track.index\n",
    "    track.reset_index(inplace=True, drop=True)       \n",
    "    pool.terminate\n",
    "    pool.close()\n",
    "'''"
   ]
  },
  {
   "cell_type": "markdown",
   "metadata": {},
   "source": [
    "each gps device has its own namespace for recording the GPX file... this function reads the embeded namespace"
   ]
  },
  {
   "cell_type": "markdown",
   "metadata": {},
   "source": [
    "Code below from:\n",
    "\n",
    "https://towardsdatascience.com/parsing-fitness-tracker-data-with-python-a59e7dc17418\n",
    "\n",
    "and \n",
    "\n",
    "https://github.com/bunburya/fitness_tracker_data_parsing/blob/main/parse_tcx.py"
   ]
  },
  {
   "cell_type": "code",
   "execution_count": null,
   "metadata": {
    "jupyter": {
     "source_hidden": true
    },
    "tags": []
   },
   "outputs": [],
   "source": [
    "# TCX reader\n",
    "NAMESPACES = {\n",
    "'ns': 'http://www.garmin.com/xmlschemas/TrainingCenterDatabase/v2',\n",
    "'ns2': 'http://www.garmin.com/xmlschemas/UserProfile/v2',\n",
    "'ns3': 'http://www.garmin.com/xmlschemas/ActivityExtension/v2',\n",
    "'ns4': 'http://www.garmin.com/xmlschemas/ProfileExtension/v1',\n",
    "'ns5': 'http://www.garmin.com/xmlschemas/ActivityGoals/v1'\n",
    "}\n",
    "\n",
    "# The names of the columns we will use in our points DataFrame\n",
    "POINTS_COLUMN_NAMES = ['lat', 'lon', 'elev', 'ts', 'heart_rate', 'cadence', 'gs', 'lap', 'm_power', 'amb_temp']\n",
    "\n",
    "# The names of the columns we will use in our laps DataFrame\n",
    "LAPS_COLUMN_NAMES = ['number', 'start_time', 'distance', 'total_time', 'max_speed', 'max_hr', 'avg_hr']\n",
    "\n",
    "def get_tcx_lap_data(lap: lxml.etree._Element) -> Dict[str, Union[float, datetime, timedelta, int]]:\n",
    "    \"\"\"Extract some data from an XML element representing a lap and\n",
    "    return it as a dict.\n",
    "    \"\"\"\n",
    "\n",
    "    data: Dict[str, Union[float, datetime, timedelta, int]] = {}\n",
    "\n",
    "    # Note that because each element's attributes and text are returned as strings, we need to convert those strings\n",
    "    # to the appropriate datatype (datetime, float, int, etc).\n",
    "\n",
    "    start_time_str = lap.attrib['StartTime']\n",
    "    data['start_time'] = dp.parse(start_time_str)\n",
    "\n",
    "    distance_elem = lap.find('ns:DistanceMeters', NAMESPACES)\n",
    "    if distance_elem is not None:\n",
    "        data['distance'] = float(distance_elem.text)\n",
    "\n",
    "    total_time_elem = lap.find('ns:TotalTimeSeconds', NAMESPACES)\n",
    "    if total_time_elem is not None:\n",
    "        data['total_time'] = timedelta(seconds=float(total_time_elem.text))\n",
    "\n",
    "    max_speed_elem = lap.find('ns:MaximumSpeed', NAMESPACES)\n",
    "    if max_speed_elem is not None:\n",
    "        data['max_speed'] = float(max_speed_elem.text)\n",
    "\n",
    "    max_hr_elem = lap.find('ns:MaximumHeartRateBpm', NAMESPACES)\n",
    "    if max_hr_elem is not None:\n",
    "        data['max_hr'] = float(max_hr_elem.find('ns:Value', NAMESPACES).text)\n",
    "\n",
    "    avg_hr_elem = lap.find('ns:AverageHeartRateBpm', NAMESPACES)\n",
    "    if avg_hr_elem is not None:\n",
    "        data['avg_hr'] = float(avg_hr_elem.find('ns:Value', NAMESPACES).text)\n",
    "\n",
    "    return data\n",
    "\n",
    "def get_tcx_point_data(point: lxml.etree._Element) -> Optional[Dict[str, Union[float, int, str, datetime]]]:\n",
    "    \"\"\"Extract some data from an XML element representing a track point\n",
    "    and return it as a dict.\n",
    "    \"\"\"\n",
    "\n",
    "    data: Dict[str, Union[float, int, str, datetime]] = {}\n",
    "\n",
    "    position = point.find('ns:Position', NAMESPACES)\n",
    "    if position is None:\n",
    "        # This Trackpoint element has no latitude or longitude data.\n",
    "        # For simplicity's sake, we will ignore such points.\n",
    "        #return None\n",
    "        data['lat'] = float(0)\n",
    "        data['lon'] = float(0)\n",
    "\n",
    "    else:\n",
    "        data['lat'] = float(position.find('ns:LatitudeDegrees', NAMESPACES).text)\n",
    "        data['lon'] = float(position.find('ns:LongitudeDegrees', NAMESPACES).text)\n",
    "\n",
    "    time_str = point.find('ns:Time', NAMESPACES).text\n",
    "    data['ts'] = dp.parse(time_str)\n",
    "\n",
    "    elevation_elem = point.find('ns:AltitudeMeters', NAMESPACES)\n",
    "    if elevation_elem is not None:\n",
    "        data['elev'] = float(elevation_elem.text)\n",
    "    else:\n",
    "        data['elev'] = float(0)\n",
    "\n",
    "    hr_elem = point.find('ns:HeartRateBpm', NAMESPACES)\n",
    "    #print(hr_elem) #debug\n",
    "    if hr_elem is not None:\n",
    "        data['heart_rate'] = int(hr_elem.find('ns:Value', NAMESPACES).text)\n",
    "\n",
    "    cad_elem = point.find('ns:Cadence', NAMESPACES)\n",
    "    if cad_elem is not None:\n",
    "        data['cadence'] = int(cad_elem.text)\n",
    "\n",
    "    # The \".//\" here basically tells lxml to search recursively down the tree for the relevant tag, rather than just the\n",
    "    # immediate child elements of speed_elem. See https://lxml.de/tutorial.html#elementpath\n",
    "    speed_elem = point.find('.//ns3:Speed', NAMESPACES)\n",
    "    if speed_elem is not None:\n",
    "        data['gs'] = float(speed_elem.text)\n",
    "\n",
    "    power_elem = point.find('.//ns3:Watts', NAMESPACES)\n",
    "    if power_elem is not None:\n",
    "        data['m_power'] = float(power_elem.text)\n",
    "\n",
    "    return data\n",
    "\n",
    "\n",
    "def get_dataframes(fname: str) -> Tuple[pd.DataFrame, pd.DataFrame]:\n",
    "    \"\"\"Takes the path to a TCX file (as a string) and returns two Pandas\n",
    "    DataFrames: one containing data about the laps, and one containing\n",
    "    data about the individual points.\n",
    "    \"\"\"\n",
    "\n",
    "    tree = lxml.etree.parse(fname)\n",
    "    root = tree.getroot()\n",
    "    activity = root.find('ns:Activities', NAMESPACES)[0]  # Assuming we know there is only one Activity in the TCX file\n",
    "                                                          # (or we are only interested in the first one)\n",
    "    print('debug', activity) #debug\n",
    "\n",
    "    points_data = []\n",
    "    laps_data = []\n",
    "    lap_no = 1\n",
    "    for lap in activity.findall('ns:Lap', NAMESPACES):\n",
    "        # Get data about the lap itself\n",
    "        single_lap_data = get_tcx_lap_data(lap)\n",
    "        single_lap_data['number'] = lap_no\n",
    "        laps_data.append(single_lap_data)\n",
    "\n",
    "        # Get data about the track points in the lap\n",
    "        track = lap.find('ns:Track', NAMESPACES)\n",
    "        point_counter = 0 #debug\n",
    "        for point in track.findall('ns:Trackpoint', NAMESPACES):\n",
    "\n",
    "            single_point_data = get_tcx_point_data(point)\n",
    "\n",
    "            #print(f'point#{point_counter}') #debug\n",
    "            #print(single_point_data) #debug\n",
    "            #print(point) #debug\n",
    "            point_counter += 1 #debug\n",
    "\n",
    "            if single_point_data:\n",
    "                single_point_data['lap'] = lap_no\n",
    "                points_data.append(single_point_data)\n",
    "        print(f'collected {point_counter} data points')\n",
    "        lap_no += 1\n",
    "\n",
    "    # Create DataFrames from the data we have collected. If any information is missing from a particular lap or track\n",
    "    # point, it will show up as a null value or \"NaN\" in the DataFrame.\n",
    "\n",
    "    laps_df = pd.DataFrame(laps_data, columns=LAPS_COLUMN_NAMES)\n",
    "    laps_df.set_index('number', inplace=True)\n",
    "    points_df = pd.DataFrame(points_data, columns=POINTS_COLUMN_NAMES)\n",
    "\n",
    "    return laps_df, points_df"
   ]
  },
  {
   "cell_type": "code",
   "execution_count": null,
   "metadata": {
    "jupyter": {
     "source_hidden": true
    },
    "tags": []
   },
   "outputs": [],
   "source": [
    "#helper functions\n",
    "def deg2rad(x):\n",
    "    return x * np.pi / 180\n",
    "\n",
    "def rad2deg(angle):\n",
    "    return angle * 180 / np.pi\n",
    "\n",
    "def kt2ms(speed):\n",
    "    return speed * 0.5144444\n",
    "\n",
    "def ms2kmh(speed):\n",
    "    return speed * 3.6\n",
    "\n",
    "def kmh2kt(speed):\n",
    "    return speed / 1.852"
   ]
  },
  {
   "cell_type": "code",
   "execution_count": null,
   "metadata": {
    "jupyter": {
     "source_hidden": true
    },
    "tags": []
   },
   "outputs": [],
   "source": [
    "def get_trk_pts_data(trksegmt):\n",
    "    '''\n",
    "    function to generate track data\n",
    "    input: list of tracksegments\n",
    "    \n",
    "    output: dataframe containing track data\n",
    "    '''\n",
    "    trackpoint = {}\n",
    "    track = pd.DataFrame(columns=['lat', 'lon', 'elev', 'ts', 'dist', 'true_hdg', 'gs', 'delta_t', 'm_power', 'amb_temp', 'heart_rate', 'cadence'])\n",
    "    first_point = True\n",
    "    debug_counter = 0\n",
    "    for idx, trkpoint in enumerate(trksegmt):\n",
    "        trackpoint['lat'] = float(trkpoint.get('lat'))\n",
    "        trackpoint['lon'] = float(trkpoint.get('lon'))\n",
    "        for elev in trkpoint.findall('gpx:ele', namespace):\n",
    "            #print(elev.text)\n",
    "            trackpoint['elev'] = float(elev.text)\n",
    "        for ts in trkpoint.findall('gpx:time', namespace):\n",
    "            #print(ts.text)\n",
    "            trackpoint['ts'] = parser.parse(ts.text)\n",
    "        \n",
    "        #garmin extensions\n",
    "        for extensions in trkpoint.findall('gpx:extensions', namespace):\n",
    "            #print(extensions)\n",
    "            for ext in extensions:\n",
    "                #print(ext.getchildren())\n",
    "                #print(ext.__class__)\n",
    "                #print('power is: ', ext.tag, ext.text)\n",
    "                if 'power' in ext.tag:\n",
    "                    #print('this is power...', float(ext.text))\n",
    "                    trackpoint['m_power'] = float(ext.text)\n",
    "                for child in ext:\n",
    "                    #print(child.tag)\n",
    "                    if 'atemp' in child.tag:\n",
    "                        #print('this is the ambient temp:', float(child.text))\n",
    "                        trackpoint['amb_temp'] = float(child.text)\n",
    "                    if 'hr' in child.tag:\n",
    "                        #print('this is the heart rate:', float(child.text))\n",
    "                        trackpoint['heart_rate'] = float(child.text)\n",
    "                    if 'cad' in child.tag:\n",
    "                        #print('this is the cadence:', float(child.text))\n",
    "                        trackpoint['cadence'] = float(child.text)\n",
    "        \n",
    "        if first_point:\n",
    "            previous_point = trackpoint\n",
    "            first_point = False\n",
    "        dist, angle = get_dist_trk([previous_point['lat'],previous_point['lon']], [trackpoint['lat'],trackpoint['lon']])\n",
    "        if debug_counter < 20:\n",
    "            #print(dist, trackpoint['lon'], previous_point['lon'])\n",
    "            debug_counter += 1\n",
    "\n",
    "        trackpoint['delta_t'] = (trackpoint['ts']-previous_point['ts']).total_seconds()\n",
    "        trackpoint['dist'] = dist\n",
    "        trackpoint['true_hdg'] = angle\n",
    "        if trackpoint['delta_t'] != 0:\n",
    "            trackpoint['gs'] = dist / trackpoint['delta_t']\n",
    "        else:\n",
    "            trackpoint['gs'] = 0\n",
    "            trackpoint['delta_t'] = np.nan\n",
    "            \n",
    "        previous_point = trackpoint\n",
    "        track = track.append(trackpoint, ignore_index=True)\n",
    "        trackpoint = {}\n",
    "    return track"
   ]
  },
  {
   "cell_type": "code",
   "execution_count": null,
   "metadata": {
    "jupyter": {
     "source_hidden": true
    },
    "tags": []
   },
   "outputs": [],
   "source": [
    "# GPX reader\n",
    "def namespace(element):\n",
    "    m = re.match('\\{(.*)\\}', element.tag)\n",
    "    return m.group(1) if m else ''\n",
    "\n",
    "def read_GPX_file(file_name):\n",
    "    tree = ET.parse(file_name)\n",
    "    root = tree.getroot()\n",
    "    namespace = {'gpx':namespace(root)}\n",
    "    #track = pd.DataFrame(columns=['lat', 'lon', 'elev', 'ts', 'dist', 'true_hdg', 'gs', 'delta_t'])\n",
    "    #lat in deg decimal\n",
    "    #lon in deg decimal\n",
    "    #elev in meters\n",
    "    #ts in datetime, tz=0\n",
    "    #dist in meters\n",
    "    #true_hdg in degrees\n",
    "    #gs in m/s\n",
    "\n",
    "    debug_counter = 0\n",
    "    n_proc = cpu_count() #number of multiprocesses in pool\n",
    "\n",
    "    for trk in root.findall('gpx:trk', namespace):\n",
    "        for trksegmt in trk.findall('gpx:trkseg', namespace):\n",
    "            first_point = True\n",
    "            trkpoints = trksegmt.findall('gpx:trkpt', namespace)\n",
    "            trk_pts_number = len(trkpoints)\n",
    "            trk_pts_set = []\n",
    "\n",
    "            for i in range(n_proc):\n",
    "                if i < (n_proc - 1):\n",
    "                    trk_pts_set.append(trkpoints[int(trk_pts_number / n_proc) * (i):(int(trk_pts_number / n_proc) * (i+1) -1)])\n",
    "                else:\n",
    "                    trk_pts_set.append(trkpoints[int(trk_pts_number / n_proc) * (i):trk_pts_number])\n",
    "\n",
    "            #get_trk_pts_data(trk_pts_set[0])\n",
    "            n_proc\n",
    "            pool = Pool(n_proc)\n",
    "            #map guarantees the order back\n",
    "            results = pool.map(get_trk_pts_data, trk_pts_set)\n",
    "            pool.join\n",
    "            #join results:\n",
    "            track = pd.DataFrame(columns=['lat', 'lon', 'elev', 'ts', 'dist', 'true_hdg', 'gs', 'delta_t', 'm_power', 'amb_temp', 'heart_rate', 'cadence'])\n",
    "            for result in results:\n",
    "                track = track.append(result.set_index('ts'))\n",
    "            track['ts'] = track.index\n",
    "            track.reset_index(inplace=True, drop=True)       \n",
    "            pool.terminate\n",
    "            pool.close()\n",
    "    return track"
   ]
  },
  {
   "cell_type": "code",
   "execution_count": null,
   "metadata": {},
   "outputs": [],
   "source": [
    "print(input_file)"
   ]
  },
  {
   "cell_type": "code",
   "execution_count": null,
   "metadata": {},
   "outputs": [],
   "source": [
    "\n",
    "print('Building track database...')\n",
    "start_time = time.time()\n",
    "\n",
    "if input_type == 'FIT':\n",
    "    track = read_FIT_file(input_file)\n",
    "if input_type == 'TCX':\n",
    "    laps_df, track = get_dataframes(input_file)\n",
    "if input_type == 'GPX':\n",
    "    track = read_GPX_file(input_file)\n",
    "end_time = time.time()\n",
    "print()\n",
    "print('Track build time was {:1.1f} seconds'.format(end_time - start_time))"
   ]
  },
  {
   "cell_type": "code",
   "execution_count": null,
   "metadata": {},
   "outputs": [],
   "source": [
    "#Butterworth filter definition\n",
    "def apply_filter(raw_data, N, Wn):\n",
    "    \n",
    "    # N is the filter order\n",
    "    #Wn is the 3db cutoff kink point\n",
    "    B, A = signal.butter(N, Wn, output='ba')\n",
    "    \n",
    "    filtered_data = signal.filtfilt(B, A, raw_data)\n",
    "    return filtered_data"
   ]
  },
  {
   "cell_type": "code",
   "execution_count": null,
   "metadata": {},
   "outputs": [],
   "source": [
    "track.head()"
   ]
  },
  {
   "cell_type": "code",
   "execution_count": null,
   "metadata": {},
   "outputs": [],
   "source": [
    "date_time = pd.to_datetime(track.pop('ts'), format='%Y-%m-%s %H:%M:%S')"
   ]
  },
  {
   "cell_type": "code",
   "execution_count": null,
   "metadata": {},
   "outputs": [],
   "source": [
    "track.head()"
   ]
  },
  {
   "cell_type": "code",
   "execution_count": null,
   "metadata": {},
   "outputs": [],
   "source": [
    "track.describe().transpose()"
   ]
  },
  {
   "cell_type": "code",
   "execution_count": null,
   "metadata": {},
   "outputs": [],
   "source": [
    "# create a delta_t column\n",
    "track['elapsed_t'] = (track.index - track.index[0]).total_seconds()\n",
    "#track['delta_t'] = track['delta_t'].apply(timedelta.total_seconds)\n",
    "track['cad_dot'] = (track['delta_cad'] / track['delta_t']).rolling(window=5).mean()\n"
   ]
  },
  {
   "cell_type": "code",
   "execution_count": null,
   "metadata": {},
   "outputs": [],
   "source": [
    "#Quick plot for checking...\n",
    "plt_list = ['dist', 'gs', 'delta_t', 'm_power', 'acc_power', 'elapsed_t', 'cadence', 'cad_dot']\n",
    "#plt_list = ['dist', 'gs', 'delta_t', 'elev']\n",
    "plt.rcParams['figure.figsize'] = [16, 12]\n",
    "f, axarr = plt.subplots(len(plt_list), sharex=True)\n",
    "for idx, pltdata in enumerate(plt_list):\n",
    "    axarr[idx].plot((track.index.values),track[pltdata])\n",
    "    axarr[idx].set(ylabel=pltdata,\n",
    "       title=pltdata)\n",
    "    axarr[idx].grid()\n",
    "plt.show()"
   ]
  },
  {
   "cell_type": "code",
   "execution_count": null,
   "metadata": {},
   "outputs": [],
   "source": []
  },
  {
   "cell_type": "markdown",
   "metadata": {
    "id": "2Pmxv2ioyCRw"
   },
   "source": [
    "##### Copyright 2019 The TensorFlow Authors."
   ]
  },
  {
   "cell_type": "code",
   "execution_count": null,
   "metadata": {
    "cellView": "form",
    "id": "b-2ShX25yNWf"
   },
   "outputs": [],
   "source": [
    "#@title Licensed under the Apache License, Version 2.0 (the \"License\");\n",
    "# you may not use this file except in compliance with the License.\n",
    "# You may obtain a copy of the License at\n",
    "#\n",
    "# https://www.apache.org/licenses/LICENSE-2.0\n",
    "#\n",
    "# Unless required by applicable law or agreed to in writing, software\n",
    "# distributed under the License is distributed on an \"AS IS\" BASIS,\n",
    "# WITHOUT WARRANTIES OR CONDITIONS OF ANY KIND, either express or implied.\n",
    "# See the License for the specific language governing permissions and\n",
    "# limitations under the License."
   ]
  },
  {
   "cell_type": "markdown",
   "metadata": {
    "id": "pa49bUnKyRgF"
   },
   "source": [
    "# Time series forecasting"
   ]
  },
  {
   "cell_type": "markdown",
   "metadata": {
    "id": "11Ilg92myRcw"
   },
   "source": [
    "<table class=\"tfo-notebook-buttons\" align=\"left\">\n",
    "  <td>\n",
    "    <a target=\"_blank\" href=\"https://www.tensorflow.org/tutorials/structured_data/time_series\"><img src=\"https://www.tensorflow.org/images/tf_logo_32px.png\" />View on TensorFlow.org</a>\n",
    "  </td>\n",
    "  <td>\n",
    "    <a target=\"_blank\" href=\"https://colab.research.google.com/github/tensorflow/docs/blob/master/site/en/tutorials/structured_data/time_series.ipynb\"><img src=\"https://www.tensorflow.org/images/colab_logo_32px.png\" />Run in Google Colab</a>\n",
    "  </td>\n",
    "  <td>\n",
    "    <a target=\"_blank\" href=\"https://github.com/tensorflow/docs/blob/master/site/en/tutorials/structured_data/time_series.ipynb\"><img src=\"https://www.tensorflow.org/images/GitHub-Mark-32px.png\" />View source on GitHub</a>\n",
    "  </td>\n",
    "  <td>\n",
    "    <a href=\"https://storage.googleapis.com/tensorflow_docs/docs/site/en/tutorials/structured_data/time_series.ipynb\"><img src=\"https://www.tensorflow.org/images/download_logo_32px.png\" />Download notebook</a>\n",
    "  </td>\n",
    "</table>"
   ]
  },
  {
   "cell_type": "markdown",
   "metadata": {
    "id": "GU8C5qm_4vZb"
   },
   "source": [
    "This tutorial is an introduction to time series forecasting using TensorFlow. It builds a few different styles of models including Convolutional and Recurrent Neural Networks (CNNs and RNNs).\n",
    "\n",
    "This is covered in two main parts, with subsections: \n",
    "\n",
    "* Forecast for a single timestep:\n",
    "  * A single feature.\n",
    "  * All features.\n",
    "* Forecast multiple steps:\n",
    "  * Single-shot: Make the predictions all at once.\n",
    "  * Autoregressive: Make one prediction at a time and feed the output back to the model."
   ]
  },
  {
   "cell_type": "markdown",
   "metadata": {
    "id": "XVhK72Pu1cJL"
   },
   "source": [
    "## Setup"
   ]
  },
  {
   "cell_type": "code",
   "execution_count": null,
   "metadata": {
    "id": "7rZnJaGTWQw0"
   },
   "outputs": [],
   "source": [
    "import os\n",
    "import datetime\n",
    "\n",
    "import IPython\n",
    "import IPython.display\n",
    "import matplotlib as mpl\n",
    "import matplotlib.pyplot as plt\n",
    "import numpy as np\n",
    "import pandas as pd\n",
    "import seaborn as sns\n",
    "import tensorflow as tf\n",
    "\n",
    "mpl.rcParams['figure.figsize'] = (8, 6)\n",
    "mpl.rcParams['axes.grid'] = False"
   ]
  },
  {
   "cell_type": "markdown",
   "metadata": {
    "id": "TokBlnUhWFw9"
   },
   "source": [
    "## The weather dataset\n",
    "This tutorial uses a <a href=\"https://www.bgc-jena.mpg.de/wetter/\" class=\"external\">weather time series dataset</a> recorded by the <a href=\"https://www.bgc-jena.mpg.de\" class=\"external\">Max Planck Institute for Biogeochemistry</a>.\n",
    "\n",
    "This dataset contains 14 different features such as air temperature, atmospheric pressure, and humidity. These were collected every 10 minutes, beginning in 2003. For efficiency, you will use only the data collected between 2009 and 2016. This section of the dataset was prepared by François Chollet for his book [Deep Learning with Python](https://www.manning.com/books/deep-learning-with-python)."
   ]
  },
  {
   "cell_type": "code",
   "execution_count": null,
   "metadata": {
    "id": "xyv_i85IWInT"
   },
   "outputs": [],
   "source": [
    "zip_path = tf.keras.utils.get_file(\n",
    "    origin='https://storage.googleapis.com/tensorflow/tf-keras-datasets/jena_climate_2009_2016.csv.zip',\n",
    "    fname='jena_climate_2009_2016.csv.zip',\n",
    "    extract=True)\n",
    "csv_path, _ = os.path.splitext(zip_path)"
   ]
  },
  {
   "cell_type": "markdown",
   "metadata": {
    "id": "R81Wx8WP4c3G"
   },
   "source": [
    "This tutorial will just deal with **hourly predictions**, so start by sub-sampling the data from 10 minute intervals to 1h:"
   ]
  },
  {
   "cell_type": "code",
   "execution_count": null,
   "metadata": {
    "id": "TX6uGeeeWIkG"
   },
   "outputs": [],
   "source": [
    "df = pd.read_csv(csv_path)\n",
    "# slice [start:stop:step], starting from index 5 take every 6th record.\n",
    "df = df[5::6]\n",
    "\n",
    "date_time = pd.to_datetime(df.pop('Date Time'), format='%d.%m.%Y %H:%M:%S')"
   ]
  },
  {
   "cell_type": "markdown",
   "metadata": {
    "id": "VdbOWXiTWM2T"
   },
   "source": [
    "Let's take a glance at the data. Here are the first few rows:"
   ]
  },
  {
   "cell_type": "code",
   "execution_count": null,
   "metadata": {
    "id": "ojHE-iCCWIhz"
   },
   "outputs": [],
   "source": [
    "df.head()"
   ]
  },
  {
   "cell_type": "markdown",
   "metadata": {
    "id": "WRzj1inMfgcO"
   },
   "source": [
    "Here is the evolution of a few features over time. "
   ]
  },
  {
   "cell_type": "code",
   "execution_count": null,
   "metadata": {
    "id": "Vg5XIc5tfNlG"
   },
   "outputs": [],
   "source": [
    "plot_cols = ['T (degC)', 'p (mbar)', 'rho (g/m**3)']\n",
    "plot_features = df[plot_cols]\n",
    "plot_features.index = date_time\n",
    "_ = plot_features.plot(subplots=True)\n",
    "\n",
    "plot_features = df[plot_cols][:480]\n",
    "plot_features.index = date_time[:480]\n",
    "_ = plot_features.plot(subplots=True)"
   ]
  },
  {
   "cell_type": "markdown",
   "metadata": {
    "id": "wXWLG0_WBhZS"
   },
   "source": [
    "### Inspect and cleanup"
   ]
  },
  {
   "cell_type": "markdown",
   "metadata": {
    "id": "yhmZXJew6GlS"
   },
   "source": [
    "Next look at the statistics of the dataset:"
   ]
  },
  {
   "cell_type": "code",
   "execution_count": null,
   "metadata": {
    "id": "h510pgKVrrai"
   },
   "outputs": [],
   "source": [
    "df.describe().transpose()"
   ]
  },
  {
   "cell_type": "markdown",
   "metadata": {
    "id": "TzOTnWOoWMGK"
   },
   "source": [
    "#### Wind velocity"
   ]
  },
  {
   "cell_type": "markdown",
   "metadata": {
    "id": "i47LiW5DCVsP"
   },
   "source": [
    "One thing that should stand out is the `min` value of the wind velocity, `wv (m/s)` and `max. wv (m/s)` columns. This `-9999` is likely erroneous. There's a separate wind direction column, so the velocity should be `>=0`. Replace it with zeros:\n"
   ]
  },
  {
   "cell_type": "code",
   "execution_count": null,
   "metadata": {
    "id": "qFOq0_80vF4d"
   },
   "outputs": [],
   "source": [
    "wv = df['wv (m/s)']\n",
    "bad_wv = wv == -9999.0\n",
    "wv[bad_wv] = 0.0\n",
    "\n",
    "max_wv = df['max. wv (m/s)']\n",
    "bad_max_wv = max_wv == -9999.0\n",
    "max_wv[bad_max_wv] = 0.0\n",
    "\n",
    "# The above inplace edits are reflected in the DataFrame\n",
    "df['wv (m/s)'].min()"
   ]
  },
  {
   "cell_type": "markdown",
   "metadata": {
    "id": "vtmu2IBPgPG8"
   },
   "source": [
    "### Feature engineering\n",
    "\n",
    "Before diving in to build a model it's important to understand your data, and be sure that you're passing the model appropriately formatted data."
   ]
  },
  {
   "cell_type": "markdown",
   "metadata": {
    "id": "FYyEaqiD6j4s"
   },
   "source": [
    "#### Wind\n",
    "The last column of the data, `wd (deg)`, gives the wind direction in units of degrees. Angles do not make good model inputs, 360° and 0° should be close to each other, and wrap around smoothly. Direction shouldn't matter if the wind is not blowing. \n",
    "\n",
    "Right now the distribution of wind data looks like this:"
   ]
  },
  {
   "cell_type": "code",
   "execution_count": null,
   "metadata": {
    "id": "YO7JGTcWQG2z"
   },
   "outputs": [],
   "source": [
    "plt.hist2d(df['wd (deg)'], df['wv (m/s)'], bins=(50, 50), vmax=400)\n",
    "plt.colorbar()\n",
    "plt.xlabel('Wind Direction [deg]')\n",
    "plt.ylabel('Wind Velocity [m/s]')"
   ]
  },
  {
   "cell_type": "markdown",
   "metadata": {
    "id": "yWnf5dwMU1_g"
   },
   "source": [
    "But this will be easier for the model to interpret if you convert the wind direction and velocity columns to a wind **vector**:"
   ]
  },
  {
   "cell_type": "code",
   "execution_count": null,
   "metadata": {
    "id": "6GmSTHXw6lI1"
   },
   "outputs": [],
   "source": [
    "wv = df.pop('wv (m/s)')\n",
    "max_wv = df.pop('max. wv (m/s)')\n",
    "\n",
    "# Convert to radians.\n",
    "wd_rad = df.pop('wd (deg)')*np.pi / 180\n",
    "\n",
    "# Calculate the wind x and y components.\n",
    "df['Wx'] = wv*np.cos(wd_rad)\n",
    "df['Wy'] = wv*np.sin(wd_rad)\n",
    "\n",
    "# Calculate the max wind x and y components.\n",
    "df['max Wx'] = max_wv*np.cos(wd_rad)\n",
    "df['max Wy'] = max_wv*np.sin(wd_rad)"
   ]
  },
  {
   "cell_type": "markdown",
   "metadata": {
    "id": "7iI0zDoxWDyB"
   },
   "source": [
    "The distribution of wind vectors is much simpler for the model to correctly interpret."
   ]
  },
  {
   "cell_type": "code",
   "execution_count": null,
   "metadata": {
    "id": "bMgCG5o2SYKD"
   },
   "outputs": [],
   "source": [
    "plt.hist2d(df['Wx'], df['Wy'], bins=(50, 50), vmax=400)\n",
    "plt.colorbar()\n",
    "plt.xlabel('Wind X [m/s]')\n",
    "plt.ylabel('Wind Y [m/s]')\n",
    "ax = plt.gca()\n",
    "ax.axis('tight')"
   ]
  },
  {
   "cell_type": "markdown",
   "metadata": {
    "id": "_8im1ttOWlRB"
   },
   "source": [
    "#### Time"
   ]
  },
  {
   "cell_type": "markdown",
   "metadata": {
    "id": "7YE21HKK40zQ"
   },
   "source": [
    "Similarly the `Date Time` column is very useful, but not in this string form. Start by converting it to seconds:"
   ]
  },
  {
   "cell_type": "code",
   "execution_count": null,
   "metadata": {
    "id": "LIFf-VjMfnh3"
   },
   "outputs": [],
   "source": [
    "timestamp_s = date_time.map(datetime.datetime.timestamp)"
   ]
  },
  {
   "cell_type": "markdown",
   "metadata": {
    "id": "EC_pnM1D5Sgc"
   },
   "source": [
    "Similar to the wind direction the time in seconds is not a useful model input. Being weather data it has clear daily and yearly periodicity. There are many ways you could deal with periodicity.\n",
    "\n",
    "A simple approach to convert it to a usable signal is to use `sin` and `cos` to convert the time to clear \"Time of day\" and \"Time of year\" signals:"
   ]
  },
  {
   "cell_type": "code",
   "execution_count": null,
   "metadata": {
    "id": "MBfX6CDwax73"
   },
   "outputs": [],
   "source": [
    "day = 24*60*60\n",
    "year = (365.2425)*day\n",
    "\n",
    "df['Day sin'] = np.sin(timestamp_s * (2 * np.pi / day))\n",
    "df['Day cos'] = np.cos(timestamp_s * (2 * np.pi / day))\n",
    "df['Year sin'] = np.sin(timestamp_s * (2 * np.pi / year))\n",
    "df['Year cos'] = np.cos(timestamp_s * (2 * np.pi / year))"
   ]
  },
  {
   "cell_type": "code",
   "execution_count": null,
   "metadata": {
    "id": "mXBbTJZfuuTC"
   },
   "outputs": [],
   "source": [
    "plt.plot(np.array(df['Day sin'])[:25])\n",
    "plt.plot(np.array(df['Day cos'])[:25])\n",
    "plt.xlabel('Time [h]')\n",
    "plt.title('Time of day signal')"
   ]
  },
  {
   "cell_type": "markdown",
   "metadata": {
    "id": "HiurzTGQgf_D"
   },
   "source": [
    "This gives the model access to the most important frequency features. In this case you knew ahead of time which frequencies were important. \n",
    "\n",
    "If you didn't know, you can determine which frequencies are important using an `fft`. To check our assumptions, here is the `tf.signal.rfft` of the temperature over time. Note the obvious peaks at frequencies near `1/year` and `1/day`: "
   ]
  },
  {
   "cell_type": "code",
   "execution_count": null,
   "metadata": {
    "id": "EN4U1fcMiTYs"
   },
   "outputs": [],
   "source": [
    "fft = tf.signal.rfft(df['T (degC)'])\n",
    "f_per_dataset = np.arange(0, len(fft))\n",
    "\n",
    "n_samples_h = len(df['T (degC)'])\n",
    "hours_per_year = 24*365.2524\n",
    "years_per_dataset = n_samples_h/(hours_per_year)\n",
    "\n",
    "f_per_year = f_per_dataset/years_per_dataset\n",
    "plt.step(f_per_year, np.abs(fft))\n",
    "plt.xscale('log')\n",
    "plt.ylim(0, 400000)\n",
    "plt.xlim([0.1, max(plt.xlim())])\n",
    "plt.xticks([1, 365.2524], labels=['1/Year', '1/day'])\n",
    "_ = plt.xlabel('Frequency (log scale)')"
   ]
  },
  {
   "cell_type": "markdown",
   "metadata": {
    "id": "2rbL8bSGDHy3"
   },
   "source": [
    "### Split the data"
   ]
  },
  {
   "cell_type": "markdown",
   "metadata": {
    "id": "qoFJZmXBaxCc"
   },
   "source": [
    "We'll use a `(70%, 20%, 10%)` split for the training, validation, and test sets. Note the data is **not** being randomly shuffled before splitting. This is for two reasons.\n",
    "\n",
    "1. It ensures that chopping the data into windows of consecutive samples is still possible.\n",
    "2. It ensures that the validation/test results are more realistic, being evaluated on data collected after the model was trained."
   ]
  },
  {
   "cell_type": "code",
   "execution_count": null,
   "metadata": {
    "id": "ia-MPAHxbInX"
   },
   "outputs": [],
   "source": [
    "column_indices = {name: i for i, name in enumerate(df.columns)}\n",
    "\n",
    "n = len(df)\n",
    "train_df = df[0:int(n*0.7)]\n",
    "val_df = df[int(n*0.7):int(n*0.9)]\n",
    "test_df = df[int(n*0.9):]\n",
    "\n",
    "num_features = df.shape[1]"
   ]
  },
  {
   "cell_type": "markdown",
   "metadata": {
    "id": "-eFckdUUHWmT"
   },
   "source": [
    "### Normalize the data\n",
    "\n",
    "It is important to scale features before training a neural network. Normalization is a common way of doing this scaling. Subtract the mean and divide by the standard deviation of each feature."
   ]
  },
  {
   "cell_type": "markdown",
   "metadata": {
    "id": "mxbIic5TMlxx"
   },
   "source": [
    "The mean and standard deviation should only be computed using the training data so that the models have no access to the values in the validation and test sets.\n",
    "\n",
    "It's also arguable that the model shouldn't have access to future values in the training set when training, and that this normalization should be done using moving averages. That's not the focus of this tutorial, and the validation and test sets ensure that you get (somewhat) honest metrics. So in the interest of simplicity this tutorial uses a simple average."
   ]
  },
  {
   "cell_type": "code",
   "execution_count": null,
   "metadata": {
    "id": "Eji6njXvHusN"
   },
   "outputs": [],
   "source": [
    "train_mean = train_df.mean()\n",
    "train_std = train_df.std()\n",
    "\n",
    "train_df = (train_df - train_mean) / train_std\n",
    "val_df = (val_df - train_mean) / train_std\n",
    "test_df = (test_df - train_mean) / train_std"
   ]
  },
  {
   "cell_type": "markdown",
   "metadata": {
    "id": "G6ufs8kk9JQw"
   },
   "source": [
    "Now peek at the distribution of the features. Some features do have long tails, but there are no obvious errors like the `-9999` wind velocity value."
   ]
  },
  {
   "cell_type": "code",
   "execution_count": null,
   "metadata": {
    "id": "T0UYEnkwm8Fe"
   },
   "outputs": [],
   "source": [
    "df_std = (df - train_mean) / train_std\n",
    "df_std = df_std.melt(var_name='Column', value_name='Normalized')\n",
    "plt.figure(figsize=(12, 6))\n",
    "ax = sns.violinplot(x='Column', y='Normalized', data=df_std)\n",
    "_ = ax.set_xticklabels(df.keys(), rotation=90)"
   ]
  },
  {
   "cell_type": "markdown",
   "metadata": {
    "id": "ZBBmdxZ2HgfJ"
   },
   "source": [
    "## Data windowing\n",
    "\n",
    "The models in this tutorial will make a set of predictions based on a window of consecutive samples from the data. \n",
    "\n",
    "The main features of the input windows are:\n",
    "\n",
    "* The width (number of time steps) of the input and label windows\n",
    "* The time offset between them.\n",
    "* Which features are used as inputs, labels, or both. \n",
    "\n",
    "This tutorial builds a variety of models (including Linear, DNN, CNN and RNN models), and uses them for both:\n",
    "\n",
    "* *Single-output*, and *multi-output* predictions.\n",
    "* *Single-time-step* and *multi-time-step* predictions.\n",
    "\n",
    "This section focuses on implementing the data windowing so that it can be reused for all of those models.\n"
   ]
  },
  {
   "cell_type": "markdown",
   "metadata": {
    "id": "YAhGUVx1jtOy"
   },
   "source": [
    "Depending on the task and type of model you may want to generate a variety of data windows. Here are some examples:\n",
    "\n",
    "1. For example, to make a single prediction 24h into the future, given 24h of history you might define a window like this:\n",
    "\n",
    "  ![One prediction 24h into the future.](images/raw_window_24h.png)\n",
    "\n",
    "2. A model that makes a prediction 1h into the future, given 6h of history would need a window like this:\n",
    "\n",
    "  ![One prediction 1h into the future.](images/raw_window_1h.png)"
   ]
  },
  {
   "cell_type": "markdown",
   "metadata": {
    "id": "sa2BbfNZt8wy"
   },
   "source": [
    "The rest of this section defines a `WindowGenerator` class. This class can:\n",
    "\n",
    "1. Handle the indexes and offsets as shown in the diagrams above.\n",
    "1. Split windows of features into a `(features, labels)` pairs.\n",
    "2. Plot the content of the resulting windows.\n",
    "3. Efficiently generate batches of these windows from the training, evaluation, and test data, using `tf.data.Dataset`s."
   ]
  },
  {
   "cell_type": "markdown",
   "metadata": {
    "id": "rfx3jGjyziUF"
   },
   "source": [
    "### 1. Indexes and offsets\n",
    "\n",
    "Start by creating the `WindowGenerator` class. The `__init__` method includes all the necessary logic for the input and label indices.\n",
    "\n",
    "It also takes the train, eval, and test dataframes as input. These will be converted to `tf.data.Dataset`s of windows later."
   ]
  },
  {
   "cell_type": "code",
   "execution_count": null,
   "metadata": {
    "id": "Kem30j8QHxyW"
   },
   "outputs": [],
   "source": [
    "class WindowGenerator():\n",
    "  def __init__(self, input_width, label_width, shift,\n",
    "               train_df=train_df, val_df=val_df, test_df=test_df,\n",
    "               label_columns=None):\n",
    "    # Store the raw data.\n",
    "    self.train_df = train_df\n",
    "    self.val_df = val_df\n",
    "    self.test_df = test_df\n",
    "\n",
    "    # Work out the label column indices.\n",
    "    self.label_columns = label_columns\n",
    "    if label_columns is not None:\n",
    "      self.label_columns_indices = {name: i for i, name in\n",
    "                                    enumerate(label_columns)}\n",
    "    self.column_indices = {name: i for i, name in\n",
    "                           enumerate(train_df.columns)}\n",
    "\n",
    "    # Work out the window parameters.\n",
    "    self.input_width = input_width\n",
    "    self.label_width = label_width\n",
    "    self.shift = shift\n",
    "\n",
    "    self.total_window_size = input_width + shift\n",
    "\n",
    "    self.input_slice = slice(0, input_width)\n",
    "    self.input_indices = np.arange(self.total_window_size)[self.input_slice]\n",
    "\n",
    "    self.label_start = self.total_window_size - self.label_width\n",
    "    self.labels_slice = slice(self.label_start, None)\n",
    "    self.label_indices = np.arange(self.total_window_size)[self.labels_slice]\n",
    "\n",
    "  def __repr__(self):\n",
    "    return '\\n'.join([\n",
    "        f'Total window size: {self.total_window_size}',\n",
    "        f'Input indices: {self.input_indices}',\n",
    "        f'Label indices: {self.label_indices}',\n",
    "        f'Label column name(s): {self.label_columns}'])"
   ]
  },
  {
   "cell_type": "markdown",
   "metadata": {
    "id": "yVJgblsYzL1g"
   },
   "source": [
    "Here is code to create the 2 windows shown in the diagrams at the start of this section:"
   ]
  },
  {
   "cell_type": "code",
   "execution_count": null,
   "metadata": {
    "id": "IsM5kRkz0UwK"
   },
   "outputs": [],
   "source": [
    "w1 = WindowGenerator(input_width=24, label_width=1, shift=24,\n",
    "                     label_columns=['T (degC)'])\n",
    "w1"
   ]
  },
  {
   "cell_type": "code",
   "execution_count": null,
   "metadata": {
    "id": "viwKsYeAKFUn"
   },
   "outputs": [],
   "source": [
    "w2 = WindowGenerator(input_width=6, label_width=1, shift=1,\n",
    "                     label_columns=['T (degC)'])\n",
    "w2"
   ]
  },
  {
   "cell_type": "markdown",
   "metadata": {
    "id": "kJaUyTWQJd-L"
   },
   "source": [
    "### 2. Split\n",
    "Given a list consecutive inputs, the `split_window` method will convert them to a window of inputs and a window of labels.\n",
    "\n",
    "The example `w2`, above, will be split like this:\n",
    "\n",
    "![The initial window is all consecutive samples, this splits it into an (inputs, labels) pairs](images/split_window.png)\n",
    "\n",
    "This diagram doesn't show the `features` axis of the data, but this `split_window` function also handles the `label_columns` so it can be used for both the single output and multi-output examples."
   ]
  },
  {
   "cell_type": "code",
   "execution_count": null,
   "metadata": {
    "id": "W4KbxfzqkXPW"
   },
   "outputs": [],
   "source": [
    "def split_window(self, features):\n",
    "  inputs = features[:, self.input_slice, :]\n",
    "  labels = features[:, self.labels_slice, :]\n",
    "  if self.label_columns is not None:\n",
    "    labels = tf.stack(\n",
    "        [labels[:, :, self.column_indices[name]] for name in self.label_columns],\n",
    "        axis=-1)\n",
    "\n",
    "  # Slicing doesn't preserve static shape information, so set the shapes\n",
    "  # manually. This way the `tf.data.Datasets` are easier to inspect.\n",
    "  inputs.set_shape([None, self.input_width, None])\n",
    "  labels.set_shape([None, self.label_width, None])\n",
    "\n",
    "  return inputs, labels\n",
    "\n",
    "WindowGenerator.split_window = split_window"
   ]
  },
  {
   "cell_type": "markdown",
   "metadata": {
    "id": "G6U6VtVuM15s"
   },
   "source": [
    "Try it out:"
   ]
  },
  {
   "cell_type": "code",
   "execution_count": null,
   "metadata": {
    "id": "YeCWbq6KLmL7"
   },
   "outputs": [],
   "source": [
    "# Stack three slices, the length of the total window:\n",
    "example_window = tf.stack([np.array(train_df[:w2.total_window_size]),\n",
    "                           np.array(train_df[100:100+w2.total_window_size]),\n",
    "                           np.array(train_df[200:200+w2.total_window_size])])\n",
    "\n",
    "\n",
    "example_inputs, example_labels = w2.split_window(example_window)\n",
    "\n",
    "print('All shapes are: (batch, time, features)')\n",
    "print(f'Window shape: {example_window.shape}')\n",
    "print(f'Inputs shape: {example_inputs.shape}')\n",
    "print(f'labels shape: {example_labels.shape}')"
   ]
  },
  {
   "cell_type": "markdown",
   "metadata": {
    "id": "xtMk1ffk2Mmd"
   },
   "source": [
    "Typically data in TensorFlow is packed into arrays where the outermost index is across examples (the \"batch\" dimension). The middle indices are the \"time\" or \"space\" (width, height) dimension(s). The innermost indices are the features.\n",
    "\n",
    "The code above took a batch of 3, 7-timestep windows, with 19 features at each time step. It split them into a batch of 6-timestep, 19 feature inputs, and a 1-timestep 1-feature label. The label only has one feature because the `WindowGenerator` was initialized with `label_columns=['T (degC)']`. Initially this tutorial will build models that predict single output labels."
   ]
  },
  {
   "cell_type": "markdown",
   "metadata": {
    "id": "tFZukGXrJoGo"
   },
   "source": [
    "### 3. Plot\n",
    "\n",
    "Here is a plot method that allows a simple visualization of the split window:"
   ]
  },
  {
   "cell_type": "code",
   "execution_count": null,
   "metadata": {
    "id": "fmgd1qkYUWT7"
   },
   "outputs": [],
   "source": [
    "w2.example = example_inputs, example_labels"
   ]
  },
  {
   "cell_type": "code",
   "execution_count": null,
   "metadata": {
    "id": "jIrYccI-Hm3B"
   },
   "outputs": [],
   "source": [
    "def plot(self, model=None, plot_col='T (degC)', max_subplots=3):\n",
    "  inputs, labels = self.example\n",
    "  plt.figure(figsize=(12, 8))\n",
    "  plot_col_index = self.column_indices[plot_col]\n",
    "  max_n = min(max_subplots, len(inputs))\n",
    "  for n in range(max_n):\n",
    "    plt.subplot(max_n, 1, n+1)\n",
    "    plt.ylabel(f'{plot_col} [normed]')\n",
    "    plt.plot(self.input_indices, inputs[n, :, plot_col_index],\n",
    "             label='Inputs', marker='.', zorder=-10)\n",
    "\n",
    "    if self.label_columns:\n",
    "      label_col_index = self.label_columns_indices.get(plot_col, None)\n",
    "    else:\n",
    "      label_col_index = plot_col_index\n",
    "\n",
    "    if label_col_index is None:\n",
    "      continue\n",
    "\n",
    "    plt.scatter(self.label_indices, labels[n, :, label_col_index],\n",
    "                edgecolors='k', label='Labels', c='#2ca02c', s=64)\n",
    "    if model is not None:\n",
    "      predictions = model(inputs)\n",
    "      plt.scatter(self.label_indices, predictions[n, :, label_col_index],\n",
    "                  marker='X', edgecolors='k', label='Predictions',\n",
    "                  c='#ff7f0e', s=64)\n",
    "\n",
    "    if n == 0:\n",
    "      plt.legend()\n",
    "\n",
    "  plt.xlabel('Time [h]')\n",
    "\n",
    "WindowGenerator.plot = plot"
   ]
  },
  {
   "cell_type": "markdown",
   "metadata": {
    "id": "HXvctEuK68vX"
   },
   "source": [
    "This plot aligns inputs, labels, and (later) predictions based on the time that the item refers to:"
   ]
  },
  {
   "cell_type": "code",
   "execution_count": null,
   "metadata": {
    "id": "XjTqUnglOOni"
   },
   "outputs": [],
   "source": [
    "w2.plot()"
   ]
  },
  {
   "cell_type": "markdown",
   "metadata": {
    "id": "UqiqcPOldPG6"
   },
   "source": [
    "You can plot the other columns, but the example window `w2` configuration only has labels for the `T (degC)` column."
   ]
  },
  {
   "cell_type": "code",
   "execution_count": null,
   "metadata": {
    "id": "EBRe4wnlfCH8"
   },
   "outputs": [],
   "source": [
    "w2.plot(plot_col='p (mbar)')"
   ]
  },
  {
   "cell_type": "markdown",
   "metadata": {
    "id": "xCvD-UaUzYMw"
   },
   "source": [
    "### 4. Create `tf.data.Dataset`s"
   ]
  },
  {
   "cell_type": "markdown",
   "metadata": {
    "id": "kLO3SFR9Osdf"
   },
   "source": [
    "Finally this `make_dataset` method will take a time series `DataFrame` and convert it to a `tf.data.Dataset` of `(input_window, label_window)` pairs using the `preprocessing.timeseries_dataset_from_array` function."
   ]
  },
  {
   "cell_type": "code",
   "execution_count": null,
   "metadata": {
    "id": "35qoSQeRVfJg"
   },
   "outputs": [],
   "source": [
    "def make_dataset(self, data):\n",
    "  data = np.array(data, dtype=np.float32)\n",
    "  ds = tf.keras.preprocessing.timeseries_dataset_from_array(\n",
    "      data=data,\n",
    "      targets=None,\n",
    "      sequence_length=self.total_window_size,\n",
    "      sequence_stride=1,\n",
    "      shuffle=True,\n",
    "      batch_size=32,)\n",
    "\n",
    "  ds = ds.map(self.split_window)\n",
    "\n",
    "  return ds\n",
    "\n",
    "WindowGenerator.make_dataset = make_dataset"
   ]
  },
  {
   "cell_type": "markdown",
   "metadata": {
    "id": "LvsxQwJaCift"
   },
   "source": [
    "The `WindowGenerator` object holds training, validation and test data. Add properties for accessing them as `tf.data.Datasets` using the above `make_dataset` method. Also add a standard example batch for easy access and plotting:"
   ]
  },
  {
   "cell_type": "code",
   "execution_count": null,
   "metadata": {
    "id": "2jZ2KkqGCfzu"
   },
   "outputs": [],
   "source": [
    "@property\n",
    "def train(self):\n",
    "  return self.make_dataset(self.train_df)\n",
    "\n",
    "@property\n",
    "def val(self):\n",
    "  return self.make_dataset(self.val_df)\n",
    "\n",
    "@property\n",
    "def test(self):\n",
    "  return self.make_dataset(self.test_df)\n",
    "\n",
    "@property\n",
    "def example(self):\n",
    "  \"\"\"Get and cache an example batch of `inputs, labels` for plotting.\"\"\"\n",
    "  result = getattr(self, '_example', None)\n",
    "  if result is None:\n",
    "    # No example batch was found, so get one from the `.train` dataset\n",
    "    result = next(iter(self.train))\n",
    "    # And cache it for next time\n",
    "    self._example = result\n",
    "  return result\n",
    "\n",
    "WindowGenerator.train = train\n",
    "WindowGenerator.val = val\n",
    "WindowGenerator.test = test\n",
    "WindowGenerator.example = example"
   ]
  },
  {
   "cell_type": "markdown",
   "metadata": {
    "id": "fF_Vj6Iw3Y2w"
   },
   "source": [
    "Now the `WindowGenerator` object gives you access to the `tf.data.Dataset` objects, so you can easily iterate over the data.\n",
    "\n",
    "The `Dataset.element_spec` property tells you the structure, `dtypes` and shapes of the dataset elements."
   ]
  },
  {
   "cell_type": "code",
   "execution_count": null,
   "metadata": {
    "id": "daJ0-U383YVs"
   },
   "outputs": [],
   "source": [
    "# Each element is an (inputs, label) pair\n",
    "w2.train.element_spec"
   ]
  },
  {
   "cell_type": "markdown",
   "metadata": {
    "id": "XKTx3_Z7ua-n"
   },
   "source": [
    "Iterating over a `Dataset` yields concrete batches:"
   ]
  },
  {
   "cell_type": "code",
   "execution_count": null,
   "metadata": {
    "id": "6gtKXEgf4Iml"
   },
   "outputs": [],
   "source": [
    "for example_inputs, example_labels in w2.train.take(1):\n",
    "  print(f'Inputs shape (batch, time, features): {example_inputs.shape}')\n",
    "  print(f'Labels shape (batch, time, features): {example_labels.shape}')"
   ]
  },
  {
   "cell_type": "markdown",
   "metadata": {
    "id": "LyuGuJUgjUK3"
   },
   "source": [
    "## Single step models\n",
    "\n",
    "The simplest model you can build on this sort of data is one that predicts a single feature's value, 1 timestep (1h) in the future based only on the current conditions.\n",
    "\n",
    "So start by building models to predict the `T (degC)` value 1h into the future.\n",
    "\n",
    "![Predict the next time step](images/narrow_window.png)\n",
    "\n",
    "Configure a `WindowGenerator` object to produce these single-step `(input, label)` pairs:"
   ]
  },
  {
   "cell_type": "code",
   "execution_count": null,
   "metadata": {
    "id": "G5QX1G1JTPCr"
   },
   "outputs": [],
   "source": [
    "single_step_window = WindowGenerator(\n",
    "    input_width=1, label_width=1, shift=1,\n",
    "    label_columns=['T (degC)'])\n",
    "single_step_window"
   ]
  },
  {
   "cell_type": "markdown",
   "metadata": {
    "id": "RKTm8ajVGw4N"
   },
   "source": [
    "The `window` object creates `tf.data.Datasets` from the training, validation, and test sets, allowing you to easily iterate over batches of data.\n"
   ]
  },
  {
   "cell_type": "code",
   "execution_count": null,
   "metadata": {
    "id": "Do4ILUaBF8oc"
   },
   "outputs": [],
   "source": [
    "for example_inputs, example_labels in single_step_window.train.take(1):\n",
    "  print(f'Inputs shape (batch, time, features): {example_inputs.shape}')\n",
    "  print(f'Labels shape (batch, time, features): {example_labels.shape}')"
   ]
  },
  {
   "cell_type": "markdown",
   "metadata": {
    "id": "D1bbPiR3VAm_"
   },
   "source": [
    "### Baseline\n",
    "\n",
    "Before building a trainable model it would be good to have a performance baseline as a point for comparison with the later more complicated models.\n",
    "\n",
    "This first task is to predict temperature 1h in the future given the current value of all features. The current values include the current temperature. \n",
    "\n",
    "So start with a model that just returns the current temperature as the prediction, predicting \"No change\". This is a reasonable baseline since temperature changes slowly. Of course, this baseline will work less well if you make a prediction further in the future.\n",
    "\n",
    "![Send the input to the output](images/baseline.png)"
   ]
  },
  {
   "cell_type": "code",
   "execution_count": null,
   "metadata": {
    "id": "9TybQaIsi3yg"
   },
   "outputs": [],
   "source": [
    "class Baseline(tf.keras.Model):\n",
    "  def __init__(self, label_index=None):\n",
    "    super().__init__()\n",
    "    self.label_index = label_index\n",
    "\n",
    "  def call(self, inputs):\n",
    "    if self.label_index is None:\n",
    "      return inputs\n",
    "    result = inputs[:, :, self.label_index]\n",
    "    return result[:, :, tf.newaxis]"
   ]
  },
  {
   "cell_type": "markdown",
   "metadata": {
    "id": "0vb3f948i8p8"
   },
   "source": [
    "Instantiate and evaluate this model:"
   ]
  },
  {
   "cell_type": "code",
   "execution_count": null,
   "metadata": {
    "id": "IS3-QKc4sX0D"
   },
   "outputs": [],
   "source": [
    "baseline = Baseline(label_index=column_indices['T (degC)'])\n",
    "\n",
    "baseline.compile(loss=tf.losses.MeanSquaredError(),\n",
    "                 metrics=[tf.metrics.MeanAbsoluteError()])\n",
    "\n",
    "val_performance = {}\n",
    "performance = {}\n",
    "val_performance['Baseline'] = baseline.evaluate(single_step_window.val)\n",
    "performance['Baseline'] = baseline.evaluate(single_step_window.test, verbose=0)"
   ]
  },
  {
   "cell_type": "markdown",
   "metadata": {
    "id": "nhBxQcCSs7Ec"
   },
   "source": [
    "That printed some performance metrics, but those don't give you a feeling for how well the model is doing.\n",
    "\n",
    "The `WindowGenerator` has a plot method, but the plots won't be very interesting with only a single sample. So, create a wider `WindowGenerator` that generates windows 24h of consecutive inputs and labels at a time. \n",
    "\n",
    "The `wide_window` doesn't change the way the model operates. The model still makes predictions 1h into the future based on a single input time step. Here the `time` axis acts like the `batch` axis: Each prediction is made independently with no interaction between time steps."
   ]
  },
  {
   "cell_type": "code",
   "execution_count": null,
   "metadata": {
    "id": "C8jNR5uuJ5Zp"
   },
   "outputs": [],
   "source": [
    "wide_window = WindowGenerator(\n",
    "    input_width=24, label_width=24, shift=1,\n",
    "    label_columns=['T (degC)'])\n",
    "\n",
    "wide_window"
   ]
  },
  {
   "cell_type": "markdown",
   "metadata": {
    "id": "ZAnj7CFZkuYv"
   },
   "source": [
    "This expanded window can be passed directly to the same `baseline` model without any code changes. This is possible because the inputs and labels have the same number of timesteps, and the baseline just forwards the input to the output:\n",
    "\n",
    "  ![One prediction 1h into the future, ever hour.](images/last_window.png)"
   ]
  },
  {
   "cell_type": "code",
   "execution_count": null,
   "metadata": {
    "id": "sGKdvdg087qs"
   },
   "outputs": [],
   "source": [
    "print('Input shape:', wide_window.example[0].shape)\n",
    "print('Output shape:', baseline(wide_window.example[0]).shape)"
   ]
  },
  {
   "cell_type": "markdown",
   "metadata": {
    "id": "SKqQHX1K0JW-"
   },
   "source": [
    "Plotting the baseline model's predictions you can see that it is simply the labels, shifted right by 1h."
   ]
  },
  {
   "cell_type": "code",
   "execution_count": null,
   "metadata": {
    "id": "jQyAPVLgWTOZ"
   },
   "outputs": [],
   "source": [
    "wide_window.plot(baseline)"
   ]
  },
  {
   "cell_type": "markdown",
   "metadata": {
    "id": "e93TLUhfAVg2"
   },
   "source": [
    "In the above plots of three examples the single step model is run over the course of 24h. This deserves some explanation:\n",
    "\n",
    "* The blue \"Inputs\" line shows the input temperature at each time step. The model recieves all features, this plot only shows the temperature.\n",
    "* The green \"Labels\" dots show the target prediction value. These dots are shown at the prediction time, not the input time. That is why the range of labels is shifted 1 step relative to the inputs.\n",
    "* The orange \"Predictions\" crosses are the model's prediction's for each output time step. If the model were predicting perfectly the predictions would land directly on the \"labels\"."
   ]
  },
  {
   "cell_type": "markdown",
   "metadata": {
    "id": "E4aOJScj52Yu"
   },
   "source": [
    "### Linear model\n",
    "\n",
    "The simplest **trainable** model you can apply to this task is to insert linear transformation between the input and output. In this case the output from a time step only depends on that step:\n",
    "\n",
    "![A single step prediction](images/narrow_window.png)\n",
    "\n",
    "A `layers.Dense` with no `activation` set is a linear model. The layer only transforms the last axis of the data from `(batch, time, inputs)` to `(batch, time, units)`, it is applied independently to every item across the `batch` and `time` axes."
   ]
  },
  {
   "cell_type": "code",
   "execution_count": null,
   "metadata": {
    "id": "6341OXuQ5xA9"
   },
   "outputs": [],
   "source": [
    "linear = tf.keras.Sequential([\n",
    "    tf.keras.layers.Dense(units=1)\n",
    "])"
   ]
  },
  {
   "cell_type": "code",
   "execution_count": null,
   "metadata": {
    "id": "KwaOM8RucUSn"
   },
   "outputs": [],
   "source": [
    "print('Input shape:', single_step_window.example[0].shape)\n",
    "print('Output shape:', linear(single_step_window.example[0]).shape)"
   ]
  },
  {
   "cell_type": "markdown",
   "metadata": {
    "id": "OMZTYIj3bYLg"
   },
   "source": [
    "This tutorial trains many models, so package the training procedure into a function:"
   ]
  },
  {
   "cell_type": "code",
   "execution_count": null,
   "metadata": {
    "id": "CbCL6VIrk-Gt"
   },
   "outputs": [],
   "source": [
    "MAX_EPOCHS = 20\n",
    "\n",
    "def compile_and_fit(model, window, patience=2):\n",
    "  early_stopping = tf.keras.callbacks.EarlyStopping(monitor='val_loss',\n",
    "                                                    patience=patience,\n",
    "                                                    mode='min')\n",
    "\n",
    "  model.compile(loss=tf.losses.MeanSquaredError(),\n",
    "                optimizer=tf.optimizers.Adam(),\n",
    "                metrics=[tf.metrics.MeanAbsoluteError()])\n",
    "\n",
    "  history = model.fit(window.train, epochs=MAX_EPOCHS,\n",
    "                      validation_data=window.val,\n",
    "                      callbacks=[early_stopping])\n",
    "  return history"
   ]
  },
  {
   "cell_type": "markdown",
   "metadata": {
    "id": "OobVjM-schwj"
   },
   "source": [
    "Train the model and evaluate its performance:"
   ]
  },
  {
   "cell_type": "code",
   "execution_count": null,
   "metadata": {
    "id": "9agbz2qB9bLS"
   },
   "outputs": [],
   "source": [
    "history = compile_and_fit(linear, single_step_window)\n",
    "\n",
    "val_performance['Linear'] = linear.evaluate(single_step_window.val)\n",
    "performance['Linear'] = linear.evaluate(single_step_window.test, verbose=0)"
   ]
  },
  {
   "cell_type": "markdown",
   "metadata": {
    "id": "7U9XukYh8beN"
   },
   "source": [
    "Like the `baseline` model, the linear model can be called on batches of wide windows. Used this way the model makes a set of independent predictions on consecutive time steps. The `time` axis acts like another `batch` axis. There are no interactions between the predictions at each time step.\n",
    "\n",
    "![A single step prediction](images/wide_window.png)"
   ]
  },
  {
   "cell_type": "code",
   "execution_count": null,
   "metadata": {
    "id": "K9UVM5Sw9KQN"
   },
   "outputs": [],
   "source": [
    "print('Input shape:', wide_window.example[0].shape)\n",
    "print('Output shape:', baseline(wide_window.example[0]).shape)"
   ]
  },
  {
   "cell_type": "markdown",
   "metadata": {
    "id": "X-CGj85oKaOG"
   },
   "source": [
    "Here is the plot of its example predictions on the `wide_window`, note how in many cases the prediction is clearly better than just returning the input temperature, but in a few cases it's worse:"
   ]
  },
  {
   "cell_type": "code",
   "execution_count": null,
   "metadata": {
    "id": "bCC8VVo-OvwV"
   },
   "outputs": [],
   "source": [
    "wide_window.plot(linear)"
   ]
  },
  {
   "cell_type": "markdown",
   "metadata": {
    "id": "Is51vU8EMl6c"
   },
   "source": [
    "One advantage to linear models is that they're relatively simple to  interpret.\n",
    "You can pull out the layer's weights, and see the weight assigned to each input:"
   ]
  },
  {
   "cell_type": "code",
   "execution_count": null,
   "metadata": {
    "id": "d4uCTbsmK8VI"
   },
   "outputs": [],
   "source": [
    "plt.bar(x = range(len(train_df.columns)),\n",
    "        height=linear.layers[0].kernel[:,0].numpy())\n",
    "axis = plt.gca()\n",
    "axis.set_xticks(range(len(train_df.columns)))\n",
    "_ = axis.set_xticklabels(train_df.columns, rotation=90)"
   ]
  },
  {
   "cell_type": "markdown",
   "metadata": {
    "id": "Ylng7215boIY"
   },
   "source": [
    "Sometimes the model doesn't even place the most weight on the input `T (degC)`. This is one of the risks of random initialization. "
   ]
  },
  {
   "cell_type": "markdown",
   "metadata": {
    "id": "W18e6da1cNbw"
   },
   "source": [
    "### Dense\n",
    "\n",
    "Before applying models that actually operate on multiple time-steps, it's worth checking the performance of deeper, more powerful, single input step models.\n",
    "\n",
    "Here's a model similar to the `linear` model, except it stacks several a few `Dense` layers between the input and the output: "
   ]
  },
  {
   "cell_type": "code",
   "execution_count": null,
   "metadata": {
    "id": "Z86WkYp7cNAD"
   },
   "outputs": [],
   "source": [
    "dense = tf.keras.Sequential([\n",
    "    tf.keras.layers.Dense(units=64, activation='relu'),\n",
    "    tf.keras.layers.Dense(units=64, activation='relu'),\n",
    "    tf.keras.layers.Dense(units=1)\n",
    "])\n",
    "\n",
    "history = compile_and_fit(dense, single_step_window)\n",
    "\n",
    "val_performance['Dense'] = dense.evaluate(single_step_window.val)\n",
    "performance['Dense'] = dense.evaluate(single_step_window.test, verbose=0)"
   ]
  },
  {
   "cell_type": "markdown",
   "metadata": {
    "id": "j5dv_whJdswH"
   },
   "source": [
    "### Multi-step dense\n",
    "\n",
    "A single-time-step model has no context for the current values of its inputs. It can't see how the input features are changing over time. To address this issue the model needs access to multiple time steps when making predictions:\n",
    "\n",
    "![Three time steps are used for each prediction.](images/conv_window.png)\n"
   ]
  },
  {
   "cell_type": "markdown",
   "metadata": {
    "id": "Zac-ti8agbJ7"
   },
   "source": [
    "The `baseline`, `linear` and `dense` models handled each time step independently. Here the model will take multiple time steps as input to produce a single output.\n",
    "\n",
    "Create a `WindowGenerator` that will produce batches of the 3h of inputs and, 1h of labels:"
   ]
  },
  {
   "cell_type": "markdown",
   "metadata": {
    "id": "gtN4BwZ37niR"
   },
   "source": [
    "Note that the `Window`'s `shift` parameter is relative to the end of the two windows.\n"
   ]
  },
  {
   "cell_type": "code",
   "execution_count": null,
   "metadata": {
    "id": "lBh0j5djUKY2"
   },
   "outputs": [],
   "source": [
    "CONV_WIDTH = 3\n",
    "conv_window = WindowGenerator(\n",
    "    input_width=CONV_WIDTH,\n",
    "    label_width=1,\n",
    "    shift=1,\n",
    "    label_columns=['T (degC)'])\n",
    "\n",
    "conv_window"
   ]
  },
  {
   "cell_type": "code",
   "execution_count": null,
   "metadata": {
    "id": "dCQ5gvs68Xkd"
   },
   "outputs": [],
   "source": [
    "conv_window.plot()\n",
    "plt.title(\"Given 3h as input, predict 1h into the future.\")"
   ]
  },
  {
   "cell_type": "markdown",
   "metadata": {
    "id": "We0HdMxKeqB_"
   },
   "source": [
    "You could train a `dense` model on a multiple-input-step window by adding a `layers.Flatten` as the first layer of the model:"
   ]
  },
  {
   "cell_type": "code",
   "execution_count": null,
   "metadata": {
    "id": "oNQnUOkOnC1G"
   },
   "outputs": [],
   "source": [
    "multi_step_dense = tf.keras.Sequential([\n",
    "    # Shape: (time, features) => (time*features)\n",
    "    tf.keras.layers.Flatten(),\n",
    "    tf.keras.layers.Dense(units=32, activation='relu'),\n",
    "    tf.keras.layers.Dense(units=32, activation='relu'),\n",
    "    tf.keras.layers.Dense(units=1),\n",
    "    # Add back the time dimension.\n",
    "    # Shape: (outputs) => (1, outputs)\n",
    "    tf.keras.layers.Reshape([1, -1]),\n",
    "])"
   ]
  },
  {
   "cell_type": "code",
   "execution_count": null,
   "metadata": {
    "id": "cayD74luo4Vq"
   },
   "outputs": [],
   "source": [
    "print('Input shape:', conv_window.example[0].shape)\n",
    "print('Output shape:', multi_step_dense(conv_window.example[0]).shape)"
   ]
  },
  {
   "cell_type": "code",
   "execution_count": null,
   "metadata": {
    "id": "fu91yEbRo9-J"
   },
   "outputs": [],
   "source": [
    "history = compile_and_fit(multi_step_dense, conv_window)\n",
    "\n",
    "IPython.display.clear_output()\n",
    "val_performance['Multi step dense'] = multi_step_dense.evaluate(conv_window.val)\n",
    "performance['Multi step dense'] = multi_step_dense.evaluate(conv_window.test, verbose=0)"
   ]
  },
  {
   "cell_type": "code",
   "execution_count": null,
   "metadata": {
    "id": "tnqdXYT6pkEh"
   },
   "outputs": [],
   "source": [
    "conv_window.plot(multi_step_dense)"
   ]
  },
  {
   "cell_type": "markdown",
   "metadata": {
    "id": "gWfrsP8mq8lV"
   },
   "source": [
    "The main down-side of this approach is that the resulting model can only be executed on input windows of exactly this shape. "
   ]
  },
  {
   "cell_type": "code",
   "execution_count": null,
   "metadata": {
    "id": "j-q6tz5Yq8Jk"
   },
   "outputs": [],
   "source": [
    "print('Input shape:', wide_window.example[0].shape)\n",
    "try:\n",
    "  print('Output shape:', multi_step_dense(wide_window.example[0]).shape)\n",
    "except Exception as e:\n",
    "  print(f'\\n{type(e).__name__}:{e}')"
   ]
  },
  {
   "cell_type": "markdown",
   "metadata": {
    "id": "bvvajm3ip_8V"
   },
   "source": [
    "The convolutional models in the next section fix this problem."
   ]
  },
  {
   "cell_type": "markdown",
   "metadata": {
    "id": "CrpU6gwSJome"
   },
   "source": [
    "### Convolution neural network\n",
    " \n",
    "A convolution layer (`layers.Conv1D`) also takes multiple time steps as input to each prediction."
   ]
  },
  {
   "cell_type": "markdown",
   "metadata": {
    "id": "cdLBwoaHmsWb"
   },
   "source": [
    "Below is the **same** model as `multi_step_dense`, re-written with a convolution. \n",
    "\n",
    "Note the changes:\n",
    "* The `layers.Flatten` and the first `layers.Dense` are replaced by a `layers.Conv1D`.\n",
    "* The `layers.Reshape` is no longer necessary since the convolution keeps the time axis in its output."
   ]
  },
  {
   "cell_type": "code",
   "execution_count": null,
   "metadata": {
    "id": "5azaMBj4ac9t"
   },
   "outputs": [],
   "source": [
    "conv_model = tf.keras.Sequential([\n",
    "    tf.keras.layers.Conv1D(filters=32,\n",
    "                           kernel_size=(CONV_WIDTH,),\n",
    "                           activation='relu'),\n",
    "    tf.keras.layers.Dense(units=32, activation='relu'),\n",
    "    tf.keras.layers.Dense(units=1),\n",
    "])"
   ]
  },
  {
   "cell_type": "markdown",
   "metadata": {
    "id": "ftaH6B5ECRiK"
   },
   "source": [
    "Run it on an example batch to see that the model produces outputs with the expected shape:"
   ]
  },
  {
   "cell_type": "code",
   "execution_count": null,
   "metadata": {
    "id": "5YNgt1-e98lH"
   },
   "outputs": [],
   "source": [
    "print(\"Conv model on `conv_window`\")\n",
    "print('Input shape:', conv_window.example[0].shape)\n",
    "print('Output shape:', conv_model(conv_window.example[0]).shape)"
   ]
  },
  {
   "cell_type": "markdown",
   "metadata": {
    "id": "5m4kC-jGCY3x"
   },
   "source": [
    "Train and evaluate it on the ` conv_window` and it should give performance similar to the `multi_step_dense` model."
   ]
  },
  {
   "cell_type": "code",
   "execution_count": null,
   "metadata": {
    "id": "QDVWdm4paUW7"
   },
   "outputs": [],
   "source": [
    "history = compile_and_fit(conv_model, conv_window)\n",
    "\n",
    "IPython.display.clear_output()\n",
    "val_performance['Conv'] = conv_model.evaluate(conv_window.val)\n",
    "performance['Conv'] = conv_model.evaluate(conv_window.test, verbose=0)"
   ]
  },
  {
   "cell_type": "markdown",
   "metadata": {
    "id": "sYRipDeXs0Kr"
   },
   "source": [
    "The difference between this `conv_model` and the `multi_step_dense` model is that the `conv_model` can be run on inputs of any length. The convolutional layer is applied to a sliding window of inputs:\n",
    "\n",
    "![Executing a convolutional model on a sequence](images/wide_conv_window.png)\n",
    "\n",
    "If you run it on wider input, it produces wider output:"
   ]
  },
  {
   "cell_type": "code",
   "execution_count": null,
   "metadata": {
    "id": "hoqccxx9r5jF"
   },
   "outputs": [],
   "source": [
    "print(\"Wide window\")\n",
    "print('Input shape:', wide_window.example[0].shape)\n",
    "print('Labels shape:', wide_window.example[1].shape)\n",
    "print('Output shape:', conv_model(wide_window.example[0]).shape)"
   ]
  },
  {
   "cell_type": "markdown",
   "metadata": {
    "id": "h_WGxtLIHhRF"
   },
   "source": [
    "Note that the output is shorter than the input. To make training or plotting work, you need the labels, and prediction to have the same length. So build a `WindowGenerator` to produce wide windows with a few extra input time steps so the label and prediction lengths match: "
   ]
  },
  {
   "cell_type": "code",
   "execution_count": null,
   "metadata": {
    "id": "_VPvJ_VwTc0f"
   },
   "outputs": [],
   "source": [
    "LABEL_WIDTH = 24\n",
    "INPUT_WIDTH = LABEL_WIDTH + (CONV_WIDTH - 1)\n",
    "wide_conv_window = WindowGenerator(\n",
    "    input_width=INPUT_WIDTH,\n",
    "    label_width=LABEL_WIDTH,\n",
    "    shift=1,\n",
    "    label_columns=['T (degC)'])\n",
    "\n",
    "wide_conv_window"
   ]
  },
  {
   "cell_type": "code",
   "execution_count": null,
   "metadata": {
    "id": "gtqlWYXeKXej"
   },
   "outputs": [],
   "source": [
    "print(\"Wide conv window\")\n",
    "print('Input shape:', wide_conv_window.example[0].shape)\n",
    "print('Labels shape:', wide_conv_window.example[1].shape)\n",
    "print('Output shape:', conv_model(wide_conv_window.example[0]).shape)"
   ]
  },
  {
   "cell_type": "markdown",
   "metadata": {
    "id": "yzxbbS56cSBV"
   },
   "source": [
    "Now you can plot the model's predictions on a wider window. Note the 3 input time steps before the first prediction. Every prediction here is based on the 3 preceding timesteps:"
   ]
  },
  {
   "cell_type": "code",
   "execution_count": null,
   "metadata": {
    "id": "gR7VyL45UuEe"
   },
   "outputs": [],
   "source": [
    "wide_conv_window.plot(conv_model)"
   ]
  },
  {
   "cell_type": "markdown",
   "metadata": {
    "id": "H4crpOcoMlSe"
   },
   "source": [
    "### Recurrent neural network\n",
    "\n",
    "A Recurrent Neural Network (RNN) is a type of neural network well-suited to time series data. RNNs process a time series step-by-step, maintaining an internal state from time-step to time-step.\n",
    "\n",
    "For more details, read the [text generation tutorial](https://www.tensorflow.org/tutorials/text/text_generation) or the [RNN guide](https://www.tensorflow.org/guide/keras/rnn). \n",
    "\n",
    "In this tutorial, you will use an RNN layer called Long Short Term Memory ([LSTM](https://www.tensorflow.org/versions/r2.0/api_docs/python/tf/keras/layers/LSTM))."
   ]
  },
  {
   "cell_type": "markdown",
   "metadata": {
    "id": "vfQbHSMb1ATa"
   },
   "source": [
    "An important constructor argument for all keras RNN layers is the `return_sequences` argument. This setting can configure the layer in one of two ways.\n",
    "\n",
    "1. If `False`, the default, the layer only returns the output of the final timestep, giving the model time to warm up its internal state before making a single prediction: \n",
    "\n",
    "![An lstm warming up and making a single prediction](images/lstm_1_window.png)\n",
    "\n",
    "2. If `True` the layer returns an output for each input. This is useful for:\n",
    "  * Stacking RNN layers. \n",
    "  * Training a model on multiple timesteps simultaneously.\n",
    "\n",
    "![An lstm making a prediction after every timestep](images/lstm_many_window.png)"
   ]
  },
  {
   "cell_type": "code",
   "execution_count": null,
   "metadata": {
    "id": "DXKLCJy8nWNU"
   },
   "outputs": [],
   "source": [
    "lstm_model = tf.keras.models.Sequential([\n",
    "    # Shape [batch, time, features] => [batch, time, lstm_units]\n",
    "    tf.keras.layers.LSTM(32, return_sequences=True),\n",
    "    # Shape => [batch, time, features]\n",
    "    tf.keras.layers.Dense(units=1)\n",
    "])"
   ]
  },
  {
   "cell_type": "markdown",
   "metadata": {
    "id": "F124B00KZcLC"
   },
   "source": [
    "With `return_sequences=True` the model can be trained on 24h of data at a time.\n",
    "\n",
    "Note: This will give a pessimistic view of the model's performance. On the first timestep the model has no access to previous steps, and so can't do any better than the simple `linear` and `dense` models shown earlier."
   ]
  },
  {
   "cell_type": "code",
   "execution_count": null,
   "metadata": {
    "id": "eZEROCQVYV6q"
   },
   "outputs": [],
   "source": [
    "print('Input shape:', wide_window.example[0].shape)\n",
    "print('Output shape:', lstm_model(wide_window.example[0]).shape)"
   ]
  },
  {
   "cell_type": "code",
   "execution_count": null,
   "metadata": {
    "id": "uvdWRl1e9WJl"
   },
   "outputs": [],
   "source": [
    "history = compile_and_fit(lstm_model, wide_window)\n",
    "\n",
    "IPython.display.clear_output()\n",
    "val_performance['LSTM'] = lstm_model.evaluate(wide_window.val)\n",
    "performance['LSTM'] = lstm_model.evaluate(wide_window.test, verbose=0)"
   ]
  },
  {
   "cell_type": "code",
   "execution_count": null,
   "metadata": {
    "id": "NwAOWCVgB26e"
   },
   "outputs": [],
   "source": [
    "wide_window.plot(lstm_model)"
   ]
  },
  {
   "cell_type": "markdown",
   "metadata": {
    "id": "pYglOCKehi8F"
   },
   "source": [
    "### Performance"
   ]
  },
  {
   "cell_type": "markdown",
   "metadata": {
    "id": "2pCk0_rwhi8H"
   },
   "source": [
    "With this dataset typically each of the models does slightly better than the one before it."
   ]
  },
  {
   "cell_type": "code",
   "execution_count": null,
   "metadata": {
    "id": "JjEkt488hi8I"
   },
   "outputs": [],
   "source": [
    "x = np.arange(len(performance))\n",
    "width = 0.3\n",
    "metric_name = 'mean_absolute_error'\n",
    "metric_index = lstm_model.metrics_names.index('mean_absolute_error')\n",
    "val_mae = [v[metric_index] for v in val_performance.values()]\n",
    "test_mae = [v[metric_index] for v in performance.values()]\n",
    "\n",
    "plt.ylabel('mean_absolute_error [T (degC), normalized]')\n",
    "plt.bar(x - 0.17, val_mae, width, label='Validation')\n",
    "plt.bar(x + 0.17, test_mae, width, label='Test')\n",
    "plt.xticks(ticks=x, labels=performance.keys(),\n",
    "           rotation=45)\n",
    "_ = plt.legend()"
   ]
  },
  {
   "cell_type": "code",
   "execution_count": null,
   "metadata": {
    "id": "cBMCpsdphi8L"
   },
   "outputs": [],
   "source": [
    "for name, value in performance.items():\n",
    "  print(f'{name:12s}: {value[1]:0.4f}')"
   ]
  },
  {
   "cell_type": "markdown",
   "metadata": {
    "id": "b5rUJ_2YMWzG"
   },
   "source": [
    "### Multi-output models\n",
    "\n",
    "The models so far all predicted a single output feature, `T (degC)`, for a single time step.\n",
    "\n",
    "All of these models can be converted to predict multiple features just by changing the number of units in the output layer and adjusting the training windows to include all features in the `labels`.\n"
   ]
  },
  {
   "cell_type": "code",
   "execution_count": null,
   "metadata": {
    "id": "9Gk0Z91xjOwv"
   },
   "outputs": [],
   "source": [
    "single_step_window = WindowGenerator(\n",
    "    # `WindowGenerator` returns all features as labels if you \n",
    "    # don't set the `label_columns` argument.\n",
    "    input_width=1, label_width=1, shift=1)\n",
    "\n",
    "wide_window = WindowGenerator(\n",
    "    input_width=24, label_width=24, shift=1)\n",
    "\n",
    "for example_inputs, example_labels in wide_window.train.take(1):\n",
    "  print(f'Inputs shape (batch, time, features): {example_inputs.shape}')\n",
    "  print(f'Labels shape (batch, time, features): {example_labels.shape}')"
   ]
  },
  {
   "cell_type": "markdown",
   "metadata": {
    "id": "XmcjHfDskX1N"
   },
   "source": [
    "Note above that the `features` axis of the labels now has the same depth as the inputs, instead of 1."
   ]
  },
  {
   "cell_type": "markdown",
   "metadata": {
    "id": "9k7S5IHNhSNF"
   },
   "source": [
    "#### Baseline\n",
    "\n",
    "The same baseline model can be used here, but this time repeating all features instead of selecting a specific `label_index`."
   ]
  },
  {
   "cell_type": "code",
   "execution_count": null,
   "metadata": {
    "id": "sqqB9W-pjr5i"
   },
   "outputs": [],
   "source": [
    "baseline = Baseline()\n",
    "baseline.compile(loss=tf.losses.MeanSquaredError(),\n",
    "                 metrics=[tf.metrics.MeanAbsoluteError()])"
   ]
  },
  {
   "cell_type": "code",
   "execution_count": null,
   "metadata": {
    "id": "ltQdgaqQjQWu"
   },
   "outputs": [],
   "source": [
    "val_performance = {}\n",
    "performance = {}\n",
    "val_performance['Baseline'] = baseline.evaluate(wide_window.val)\n",
    "performance['Baseline'] = baseline.evaluate(wide_window.test, verbose=0)"
   ]
  },
  {
   "cell_type": "markdown",
   "metadata": {
    "id": "dfbCrf5q3P6n"
   },
   "source": [
    "#### Dense"
   ]
  },
  {
   "cell_type": "code",
   "execution_count": null,
   "metadata": {
    "id": "NdpzH1dYjdIN"
   },
   "outputs": [],
   "source": [
    "dense = tf.keras.Sequential([\n",
    "    tf.keras.layers.Dense(units=64, activation='relu'),\n",
    "    tf.keras.layers.Dense(units=64, activation='relu'),\n",
    "    tf.keras.layers.Dense(units=num_features)\n",
    "])"
   ]
  },
  {
   "cell_type": "code",
   "execution_count": null,
   "metadata": {
    "id": "6uHuU9Cd3PTo"
   },
   "outputs": [],
   "source": [
    "history = compile_and_fit(dense, single_step_window)\n",
    "\n",
    "IPython.display.clear_output()\n",
    "val_performance['Dense'] = dense.evaluate(single_step_window.val)\n",
    "performance['Dense'] = dense.evaluate(single_step_window.test, verbose=0)"
   ]
  },
  {
   "cell_type": "markdown",
   "metadata": {
    "id": "dsc9pur_mHsx"
   },
   "source": [
    "#### RNN\n"
   ]
  },
  {
   "cell_type": "code",
   "execution_count": null,
   "metadata": {
    "id": "4QbGLMyomXaz"
   },
   "outputs": [],
   "source": [
    "%%time\n",
    "wide_window = WindowGenerator(\n",
    "    input_width=24, label_width=24, shift=1)\n",
    "\n",
    "lstm_model = tf.keras.models.Sequential([\n",
    "    # Shape [batch, time, features] => [batch, time, lstm_units]\n",
    "    tf.keras.layers.LSTM(32, return_sequences=True),\n",
    "    # Shape => [batch, time, features]\n",
    "    tf.keras.layers.Dense(units=num_features)\n",
    "])\n",
    "\n",
    "history = compile_and_fit(lstm_model, wide_window)\n",
    "\n",
    "IPython.display.clear_output()\n",
    "val_performance['LSTM'] = lstm_model.evaluate( wide_window.val)\n",
    "performance['LSTM'] = lstm_model.evaluate( wide_window.test, verbose=0)\n",
    "\n",
    "print()"
   ]
  },
  {
   "cell_type": "markdown",
   "metadata": {
    "id": "UwhY2f_Nn0_K"
   },
   "source": [
    "<a id=\"residual\"></a>\n",
    "\n",
    "#### Advanced: Residual connections\n",
    "\n",
    "The `Baseline` model from earlier took advantage of the fact that the sequence doesn't change drastically from time step to time step. Every model trained in this tutorial so far was randomly initialized, and then had to learn that the output is a a small change from the previous time step.\n",
    "\n",
    "While you can get around this issue with careful initialization, it's  simpler to build this into the model structure.\n",
    "\n",
    "It's common in time series analysis to build models that instead of predicting the next value, predict how the value will change in the next timestep.\n",
    "Similarly, \"Residual networks\" or \"ResNets\" in deep learning refer to architectures where each layer adds to the model's accumulating result.\n",
    "\n",
    "That is how you take advantage of the knowledge that the change should be small.\n",
    "\n",
    "![A model with a residual connection](images/residual.png)\n",
    "\n",
    "Essentially this initializes the model to match the `Baseline`. For this task it helps models converge faster, with slightly better performance."
   ]
  },
  {
   "cell_type": "markdown",
   "metadata": {
    "id": "yP58A_ORx0kM"
   },
   "source": [
    "This approach can be used in conjunction with any model discussed in this tutorial. \n",
    "\n",
    "Here it is being applied to the LSTM model, note the use of the `tf.initializers.zeros` to ensure that the initial predicted changes are small, and don't overpower the residual connection. There are no symmetry-breaking concerns for the gradients here, since the `zeros` are only used on the last layer."
   ]
  },
  {
   "cell_type": "code",
   "execution_count": null,
   "metadata": {
    "id": "7YlfnDQC22TQ"
   },
   "outputs": [],
   "source": [
    "class ResidualWrapper(tf.keras.Model):\n",
    "  def __init__(self, model):\n",
    "    super().__init__()\n",
    "    self.model = model\n",
    "\n",
    "  def call(self, inputs, *args, **kwargs):\n",
    "    delta = self.model(inputs, *args, **kwargs)\n",
    "\n",
    "    # The prediction for each timestep is the input\n",
    "    # from the previous time step plus the delta\n",
    "    # calculated by the model.\n",
    "    return inputs + delta"
   ]
  },
  {
   "cell_type": "code",
   "execution_count": null,
   "metadata": {
    "id": "NNeH02pspc9B"
   },
   "outputs": [],
   "source": [
    "%%time\n",
    "residual_lstm = ResidualWrapper(\n",
    "    tf.keras.Sequential([\n",
    "    tf.keras.layers.LSTM(32, return_sequences=True),\n",
    "    tf.keras.layers.Dense(\n",
    "        num_features,\n",
    "        # The predicted deltas should start small\n",
    "        # So initialize the output layer with zeros\n",
    "        kernel_initializer=tf.initializers.zeros())\n",
    "]))\n",
    "\n",
    "history = compile_and_fit(residual_lstm, wide_window)\n",
    "\n",
    "IPython.display.clear_output()\n",
    "val_performance['Residual LSTM'] = residual_lstm.evaluate(wide_window.val)\n",
    "performance['Residual LSTM'] = residual_lstm.evaluate(wide_window.test, verbose=0)\n",
    "print()"
   ]
  },
  {
   "cell_type": "markdown",
   "metadata": {
    "id": "I42Er9Du6co1"
   },
   "source": [
    "#### Performance"
   ]
  },
  {
   "cell_type": "markdown",
   "metadata": {
    "id": "LZxR38P_6pUi"
   },
   "source": [
    "Here is the overall performance for these multi-output models."
   ]
  },
  {
   "cell_type": "code",
   "execution_count": null,
   "metadata": {
    "id": "6XgTK9tnr7rc"
   },
   "outputs": [],
   "source": [
    "x = np.arange(len(performance))\n",
    "width = 0.3\n",
    "\n",
    "metric_name = 'mean_absolute_error'\n",
    "metric_index = lstm_model.metrics_names.index('mean_absolute_error')\n",
    "val_mae = [v[metric_index] for v in val_performance.values()]\n",
    "test_mae = [v[metric_index] for v in performance.values()]\n",
    "\n",
    "plt.bar(x - 0.17, val_mae, width, label='Validation')\n",
    "plt.bar(x + 0.17, test_mae, width, label='Test')\n",
    "plt.xticks(ticks=x, labels=performance.keys(),\n",
    "           rotation=45)\n",
    "plt.ylabel('MAE (average over all outputs)')\n",
    "_ = plt.legend()"
   ]
  },
  {
   "cell_type": "code",
   "execution_count": null,
   "metadata": {
    "id": "URz3ajCc6kBj"
   },
   "outputs": [],
   "source": [
    "for name, value in performance.items():\n",
    "  print(f'{name:15s}: {value[1]:0.4f}')"
   ]
  },
  {
   "cell_type": "markdown",
   "metadata": {
    "id": "_Vt2MJhNxwPU"
   },
   "source": [
    "The above performances are averaged across all model outputs."
   ]
  },
  {
   "cell_type": "markdown",
   "metadata": {
    "id": "eYokb7Om2YbK"
   },
   "source": [
    "## Multi-step models\n",
    "\n",
    "Both the single-output and multiple-output models in the previous sections made **single time step predictions**, 1h into the future.\n",
    "\n",
    "This section looks at how to expand these models to make **multiple time step predictions**.\n",
    "\n",
    "In a multi-step prediction, the model needs to learn to predict a range of future values. Thus, unlike a single step model, where only a single future point is predicted, a multi-step model predicts a sequence of the future values.\n",
    "\n",
    "There are two rough approaches to this:\n",
    "\n",
    "1. Single shot predictions where the entire time series is predicted at once.\n",
    "2. Autoregressive predictions where the model only makes single step predictions and its output is fed back as its input.\n",
    "\n",
    "In this section all the models will predict **all the features across all output time steps**.\n"
   ]
  },
  {
   "cell_type": "markdown",
   "metadata": {
    "id": "WFsDAwVt4_rq"
   },
   "source": [
    "For the multi-step model, the training data again consists of hourly samples. However, here, the models will learn to predict 24h of the future, given 24h of the past.\n",
    "\n",
    "Here is a `Window` object that generates these slices from the dataset:"
   ]
  },
  {
   "cell_type": "code",
   "execution_count": null,
   "metadata": {
    "id": "1cFYtsz6XiGw"
   },
   "outputs": [],
   "source": [
    "OUT_STEPS = 24\n",
    "multi_window = WindowGenerator(input_width=24,\n",
    "                               label_width=OUT_STEPS,\n",
    "                               shift=OUT_STEPS)\n",
    "\n",
    "multi_window.plot()\n",
    "multi_window"
   ]
  },
  {
   "cell_type": "markdown",
   "metadata": {
    "id": "5lg8SInh9Jzd"
   },
   "source": [
    "### Baselines"
   ]
  },
  {
   "cell_type": "markdown",
   "metadata": {
    "id": "axwpoWYOApJL"
   },
   "source": [
    "A simple baseline for this task is to repeat the last input time step for the required number of output timesteps:\n",
    "\n",
    "![Repeat the last input, for each output step](images/multistep_last.png)"
   ]
  },
  {
   "cell_type": "code",
   "execution_count": null,
   "metadata": {
    "id": "_5iaHSaJ9Rxv"
   },
   "outputs": [],
   "source": [
    "class MultiStepLastBaseline(tf.keras.Model):\n",
    "  def call(self, inputs):\n",
    "    return tf.tile(inputs[:, -1:, :], [1, OUT_STEPS, 1])\n",
    "\n",
    "last_baseline = MultiStepLastBaseline()\n",
    "last_baseline.compile(loss=tf.losses.MeanSquaredError(),\n",
    "                      metrics=[tf.metrics.MeanAbsoluteError()])\n",
    "\n",
    "multi_val_performance = {}\n",
    "multi_performance = {}\n",
    "\n",
    "multi_val_performance['Last'] = last_baseline.evaluate(multi_window.val)\n",
    "multi_performance['Last'] = last_baseline.evaluate(multi_window.test, verbose=0)\n",
    "multi_window.plot(last_baseline)"
   ]
  },
  {
   "cell_type": "markdown",
   "metadata": {
    "id": "AvHZ93ObAfMA"
   },
   "source": [
    "Since this task is to predict 24h given 24h another simple approach is to repeat the previous day, assuming tomorrow will be similar:\n",
    "\n",
    "![Repeat the previous day](images/multistep_repeat.png)"
   ]
  },
  {
   "cell_type": "code",
   "execution_count": null,
   "metadata": {
    "id": "L8Y1uMhGwIRs"
   },
   "outputs": [],
   "source": [
    "class RepeatBaseline(tf.keras.Model):\n",
    "  def call(self, inputs):\n",
    "    return inputs\n",
    "\n",
    "repeat_baseline = RepeatBaseline()\n",
    "repeat_baseline.compile(loss=tf.losses.MeanSquaredError(),\n",
    "                        metrics=[tf.metrics.MeanAbsoluteError()])\n",
    "\n",
    "multi_val_performance['Repeat'] = repeat_baseline.evaluate(multi_window.val)\n",
    "multi_performance['Repeat'] = repeat_baseline.evaluate(multi_window.test, verbose=0)\n",
    "multi_window.plot(repeat_baseline)"
   ]
  },
  {
   "cell_type": "markdown",
   "metadata": {
    "id": "tbndS-ct9C2Q"
   },
   "source": [
    "### Single-shot models\n",
    "\n",
    "One high level approach to this problem is use a \"single-shot\" model, where the model makes the entire sequence prediction in a single step.\n",
    "\n",
    "This can be implemented efficiently as a `layers.Dense` with `OUT_STEPS*features` output units. The model just needs to reshape that output to the required `(OUTPUT_STEPS, features)`."
   ]
  },
  {
   "cell_type": "markdown",
   "metadata": {
    "id": "NCKS4m1VKrDQ"
   },
   "source": [
    "#### Linear\n",
    "\n",
    "A simple linear model based on the last input time step does better than either baseline, but is underpowered. The model needs to predict `OUTPUT_STEPS` time steps, from a single input time step with a linear projection. It can only capture a low-dimensional slice of the behavior, likely based mainly on the time of day and time of year.\n",
    "\n",
    "![Predct all timesteps from the last time-step](images/multistep_dense.png)"
   ]
  },
  {
   "cell_type": "code",
   "execution_count": null,
   "metadata": {
    "id": "kfRz_WVhIQcd"
   },
   "outputs": [],
   "source": [
    "multi_linear_model = tf.keras.Sequential([\n",
    "    # Take the last time-step.\n",
    "    # Shape [batch, time, features] => [batch, 1, features]\n",
    "    tf.keras.layers.Lambda(lambda x: x[:, -1:, :]),\n",
    "    # Shape => [batch, 1, out_steps*features]\n",
    "    tf.keras.layers.Dense(OUT_STEPS*num_features,\n",
    "                          kernel_initializer=tf.initializers.zeros()),\n",
    "    # Shape => [batch, out_steps, features]\n",
    "    tf.keras.layers.Reshape([OUT_STEPS, num_features])\n",
    "])\n",
    "\n",
    "history = compile_and_fit(multi_linear_model, multi_window)\n",
    "\n",
    "IPython.display.clear_output()\n",
    "multi_val_performance['Linear'] = multi_linear_model.evaluate(multi_window.val)\n",
    "multi_performance['Linear'] = multi_linear_model.evaluate(multi_window.test, verbose=0)\n",
    "multi_window.plot(multi_linear_model)"
   ]
  },
  {
   "cell_type": "markdown",
   "metadata": {
    "id": "zi2TMHk2IRrh"
   },
   "source": [
    "#### Dense\n",
    "\n",
    "Adding a `layers.Dense` between the input and output gives the linear model more power, but is still only based on a single input timestep."
   ]
  },
  {
   "cell_type": "code",
   "execution_count": null,
   "metadata": {
    "id": "jezm-BKaGj91"
   },
   "outputs": [],
   "source": [
    "multi_dense_model = tf.keras.Sequential([\n",
    "    # Take the last time step.\n",
    "    # Shape [batch, time, features] => [batch, 1, features]\n",
    "    tf.keras.layers.Lambda(lambda x: x[:, -1:, :]),\n",
    "    # Shape => [batch, 1, dense_units]\n",
    "    tf.keras.layers.Dense(512, activation='relu'),\n",
    "    # Shape => [batch, out_steps*features]\n",
    "    tf.keras.layers.Dense(OUT_STEPS*num_features,\n",
    "                          kernel_initializer=tf.initializers.zeros()),\n",
    "    # Shape => [batch, out_steps, features]\n",
    "    tf.keras.layers.Reshape([OUT_STEPS, num_features])\n",
    "])\n",
    "\n",
    "history = compile_and_fit(multi_dense_model, multi_window)\n",
    "\n",
    "IPython.display.clear_output()\n",
    "multi_val_performance['Dense'] = multi_dense_model.evaluate(multi_window.val)\n",
    "multi_performance['Dense'] = multi_dense_model.evaluate(multi_window.test, verbose=0)\n",
    "multi_window.plot(multi_dense_model)"
   ]
  },
  {
   "cell_type": "markdown",
   "metadata": {
    "id": "icsBAjCzMaMl"
   },
   "source": [
    "#### CNN"
   ]
  },
  {
   "cell_type": "markdown",
   "metadata": {
    "id": "34lCZrWYNBwd"
   },
   "source": [
    "A convolutional model makes predictions based on a fixed-width history, which may lead to better performance than the dense model since it can see how things are changing over time:\n",
    "\n",
    "![A convolutional model sees how things change over time](images/multistep_conv.png)"
   ]
  },
  {
   "cell_type": "code",
   "execution_count": null,
   "metadata": {
    "id": "0xJoIP6PMWMI"
   },
   "outputs": [],
   "source": [
    "CONV_WIDTH = 3\n",
    "multi_conv_model = tf.keras.Sequential([\n",
    "    # Shape [batch, time, features] => [batch, CONV_WIDTH, features]\n",
    "    tf.keras.layers.Lambda(lambda x: x[:, -CONV_WIDTH:, :]),\n",
    "    # Shape => [batch, 1, conv_units]\n",
    "    tf.keras.layers.Conv1D(256, activation='relu', kernel_size=(CONV_WIDTH)),\n",
    "    # Shape => [batch, 1,  out_steps*features]\n",
    "    tf.keras.layers.Dense(OUT_STEPS*num_features,\n",
    "                          kernel_initializer=tf.initializers.zeros()),\n",
    "    # Shape => [batch, out_steps, features]\n",
    "    tf.keras.layers.Reshape([OUT_STEPS, num_features])\n",
    "])\n",
    "\n",
    "history = compile_and_fit(multi_conv_model, multi_window)\n",
    "\n",
    "IPython.display.clear_output()\n",
    "\n",
    "multi_val_performance['Conv'] = multi_conv_model.evaluate(multi_window.val)\n",
    "multi_performance['Conv'] = multi_conv_model.evaluate(multi_window.test, verbose=0)\n",
    "multi_window.plot(multi_conv_model)"
   ]
  },
  {
   "cell_type": "markdown",
   "metadata": {
    "id": "weBjeZAFJOP4"
   },
   "source": [
    "#### RNN"
   ]
  },
  {
   "cell_type": "markdown",
   "metadata": {
    "id": "8022xOKxOO92"
   },
   "source": [
    "A recurrent model can learn to use a long history of inputs, if it's relevant to the predictions the model is making. Here the model will accumulate internal state for 24h, before making a single prediction for the next 24h.\n",
    "\n",
    "In this single-shot format, the LSTM only needs to produce an output at the last time step, so set `return_sequences=False`.\n",
    "\n",
    "![The lstm accumulates state over the input window, and makes a single prediction for the next 24h](images/multistep_lstm.png)\n"
   ]
  },
  {
   "cell_type": "code",
   "execution_count": null,
   "metadata": {
    "id": "Bf1ks6RTzF64"
   },
   "outputs": [],
   "source": [
    "multi_lstm_model = tf.keras.Sequential([\n",
    "    # Shape [batch, time, features] => [batch, lstm_units]\n",
    "    # Adding more `lstm_units` just overfits more quickly.\n",
    "    tf.keras.layers.LSTM(32, return_sequences=False),\n",
    "    # Shape => [batch, out_steps*features]\n",
    "    tf.keras.layers.Dense(OUT_STEPS*num_features,\n",
    "                          kernel_initializer=tf.initializers.zeros()),\n",
    "    # Shape => [batch, out_steps, features]\n",
    "    tf.keras.layers.Reshape([OUT_STEPS, num_features])\n",
    "])\n",
    "\n",
    "history = compile_and_fit(multi_lstm_model, multi_window)\n",
    "\n",
    "IPython.display.clear_output()\n",
    "\n",
    "multi_val_performance['LSTM'] = multi_lstm_model.evaluate(multi_window.val)\n",
    "multi_performance['LSTM'] = multi_lstm_model.evaluate(multi_window.test, verbose=0)\n",
    "multi_window.plot(multi_lstm_model)"
   ]
  },
  {
   "cell_type": "markdown",
   "metadata": {
    "id": "d5n-1cDW12Vo"
   },
   "source": [
    "### Advanced: Autoregressive model\n",
    "\n",
    "The above models all predict the entire output sequence in a single step.\n",
    "\n",
    "In some cases it may be helpful for the model to decompose this prediction into individual time steps. Then each model's output can be fed back into itself at each step and predictions can be made conditioned on the previous one, like in the classic [Generating Sequences With Recurrent Neural Networks](https://arxiv.org/abs/1308.0850).\n",
    "\n",
    "One clear advantage to this style of model is that it can be set up to produce output with a varying length.\n",
    "\n",
    "You could take any of the single-step multi-output models trained in the first half of this tutorial and run  in an autoregressive feedback loop, but here you'll focus on building a model that's been explicitly trained to do that.\n",
    "\n",
    "![Feedback a model's output to its input](images/multistep_autoregressive.png)\n"
   ]
  },
  {
   "cell_type": "markdown",
   "metadata": {
    "id": "PKRreBbULRXY"
   },
   "source": [
    "#### RNN\n",
    "\n",
    "This tutorial only builds an autoregressive RNN model, but this pattern could be applied to any model that was designed to output a single timestep.\n",
    "\n",
    "The model will have the same basic form as the single-step `LSTM` models: An `LSTM` followed by a `layers.Dense` that converts the `LSTM` outputs to model predictions.\n",
    "\n",
    "A `layers.LSTM` is a `layers.LSTMCell` wrapped in the higher level `layers.RNN` that manages the state and sequence results for you (See [Keras RNNs](https://www.tensorflow.org/guide/keras/rnn) for details).\n",
    "\n",
    "In this case the model has to manually manage the inputs for each step so it uses `layers.LSTMCell` directly for the lower level, single time step interface."
   ]
  },
  {
   "cell_type": "code",
   "execution_count": null,
   "metadata": {
    "id": "s5tz3Nu0R5JG"
   },
   "outputs": [],
   "source": [
    "class FeedBack(tf.keras.Model):\n",
    "  def __init__(self, units, out_steps):\n",
    "    super().__init__()\n",
    "    self.out_steps = out_steps\n",
    "    self.units = units\n",
    "    self.lstm_cell = tf.keras.layers.LSTMCell(units)\n",
    "    # Also wrap the LSTMCell in an RNN to simplify the `warmup` method.\n",
    "    self.lstm_rnn = tf.keras.layers.RNN(self.lstm_cell, return_state=True)\n",
    "    self.dense = tf.keras.layers.Dense(num_features)"
   ]
  },
  {
   "cell_type": "code",
   "execution_count": null,
   "metadata": {
    "id": "2OXVM9G1U7xR"
   },
   "outputs": [],
   "source": [
    "feedback_model = FeedBack(units=32, out_steps=OUT_STEPS)"
   ]
  },
  {
   "cell_type": "markdown",
   "metadata": {
    "id": "ph5uFSfTUNho"
   },
   "source": [
    "The first method this model needs is a `warmup` method to initialize its internal state based on the inputs. Once trained this state will capture the relevant parts of the input history. This is equivalent to the single-step `LSTM` model from earlier:"
   ]
  },
  {
   "cell_type": "code",
   "execution_count": null,
   "metadata": {
    "id": "vM2K_LLdRjDZ"
   },
   "outputs": [],
   "source": [
    "def warmup(self, inputs):\n",
    "  # inputs.shape => (batch, time, features)\n",
    "  # x.shape => (batch, lstm_units)\n",
    "  x, *state = self.lstm_rnn(inputs)\n",
    "\n",
    "  # predictions.shape => (batch, features)\n",
    "  prediction = self.dense(x)\n",
    "  return prediction, state\n",
    "\n",
    "FeedBack.warmup = warmup"
   ]
  },
  {
   "cell_type": "markdown",
   "metadata": {
    "id": "6JkaSYaZ9eB7"
   },
   "source": [
    "This method returns a single time-step prediction, and the internal state of the LSTM:"
   ]
  },
  {
   "cell_type": "code",
   "execution_count": null,
   "metadata": {
    "id": "w9Fz6NTKXXwU"
   },
   "outputs": [],
   "source": [
    "prediction, state = feedback_model.warmup(multi_window.example[0])\n",
    "prediction.shape"
   ]
  },
  {
   "cell_type": "markdown",
   "metadata": {
    "id": "S_ZdvPjdX3y3"
   },
   "source": [
    "With the `RNN`'s state, and an initial prediction you can now continue iterating the model feeding the predictions at each step back as the input.\n",
    "\n",
    "The simplest approach to collecting the output predictions is to use a python list, and `tf.stack` after the loop."
   ]
  },
  {
   "cell_type": "markdown",
   "metadata": {
    "id": "yotTad3nZXQU"
   },
   "source": [
    "Note: Stacking a python list like this only works with eager-execution, using `Model.compile(..., run_eagerly=True)` for training, or with a fixed length output. For a dynamic output length you would need to use a `tf.TensorArray` instead of a python list, and `tf.range` instead of the python `range`."
   ]
  },
  {
   "cell_type": "code",
   "execution_count": null,
   "metadata": {
    "id": "g1GRDu3mZtr9"
   },
   "outputs": [],
   "source": [
    "def call(self, inputs, training=None):\n",
    "  # Use a TensorArray to capture dynamically unrolled outputs.\n",
    "  predictions = []\n",
    "  # Initialize the lstm state\n",
    "  prediction, state = self.warmup(inputs)\n",
    "\n",
    "  # Insert the first prediction\n",
    "  predictions.append(prediction)\n",
    "\n",
    "  # Run the rest of the prediction steps\n",
    "  for n in range(1, self.out_steps):\n",
    "    # Use the last prediction as input.\n",
    "    x = prediction\n",
    "    # Execute one lstm step.\n",
    "    x, state = self.lstm_cell(x, states=state,\n",
    "                              training=training)\n",
    "    # Convert the lstm output to a prediction.\n",
    "    prediction = self.dense(x)\n",
    "    # Add the prediction to the output\n",
    "    predictions.append(prediction)\n",
    "\n",
    "  # predictions.shape => (time, batch, features)\n",
    "  predictions = tf.stack(predictions)\n",
    "  # predictions.shape => (batch, time, features)\n",
    "  predictions = tf.transpose(predictions, [1, 0, 2])\n",
    "  return predictions\n",
    "\n",
    "FeedBack.call = call"
   ]
  },
  {
   "cell_type": "markdown",
   "metadata": {
    "id": "Ubop-YWp15XW"
   },
   "source": [
    "Test run this model on the example inputs:"
   ]
  },
  {
   "cell_type": "code",
   "execution_count": null,
   "metadata": {
    "id": "Xja83zEYaM2D"
   },
   "outputs": [],
   "source": [
    "print('Output shape (batch, time, features): ', feedback_model(multi_window.example[0]).shape)"
   ]
  },
  {
   "cell_type": "markdown",
   "metadata": {
    "id": "qMs0rYB8be9M"
   },
   "source": [
    "Now train the model:"
   ]
  },
  {
   "cell_type": "code",
   "execution_count": null,
   "metadata": {
    "id": "VBRVG2hnNyrO"
   },
   "outputs": [],
   "source": [
    "history = compile_and_fit(feedback_model, multi_window)\n",
    "\n",
    "IPython.display.clear_output()\n",
    "\n",
    "multi_val_performance['AR LSTM'] = feedback_model.evaluate(multi_window.val)\n",
    "multi_performance['AR LSTM'] = feedback_model.evaluate(multi_window.test, verbose=0)\n",
    "multi_window.plot(feedback_model)"
   ]
  },
  {
   "cell_type": "markdown",
   "metadata": {
    "id": "hGjcJsAQJUkI"
   },
   "source": [
    "### Performance"
   ]
  },
  {
   "cell_type": "markdown",
   "metadata": {
    "id": "sODAwr2ndtDB"
   },
   "source": [
    "There are clearly diminishing returns as a function of model complexity on this problem."
   ]
  },
  {
   "cell_type": "code",
   "execution_count": null,
   "metadata": {
    "id": "WZwWBA8S6B3L"
   },
   "outputs": [],
   "source": [
    "x = np.arange(len(multi_performance))\n",
    "width = 0.3\n",
    "\n",
    "\n",
    "metric_name = 'mean_absolute_error'\n",
    "metric_index = lstm_model.metrics_names.index('mean_absolute_error')\n",
    "val_mae = [v[metric_index] for v in multi_val_performance.values()]\n",
    "test_mae = [v[metric_index] for v in multi_performance.values()]\n",
    "\n",
    "plt.bar(x - 0.17, val_mae, width, label='Validation')\n",
    "plt.bar(x + 0.17, test_mae, width, label='Test')\n",
    "plt.xticks(ticks=x, labels=multi_performance.keys(),\n",
    "           rotation=45)\n",
    "plt.ylabel(f'MAE (average over all times and outputs)')\n",
    "_ = plt.legend()"
   ]
  },
  {
   "cell_type": "markdown",
   "metadata": {
    "id": "Zq3hUsedCEmJ"
   },
   "source": [
    "The metrics for the multi-output models in the first half of this tutorial show the performance averaged across all output features. These performances similar but also averaged across output timesteps. "
   ]
  },
  {
   "cell_type": "code",
   "execution_count": null,
   "metadata": {
    "id": "jKq3eAIvH4Db"
   },
   "outputs": [],
   "source": [
    "for name, value in multi_performance.items():\n",
    "  print(f'{name:8s}: {value[1]:0.4f}')"
   ]
  },
  {
   "cell_type": "markdown",
   "metadata": {
    "id": "MpBFwfnaHP23"
   },
   "source": [
    "The gains achieved going from a dense model to convolutional and recurrent models are only a few percent (if any), and the autoregressive model performed clearly worse. So these more complex approaches may not be worth while on **this** problem, but there was no way to know without trying, and these models could be helpful for **your** problem."
   ]
  },
  {
   "cell_type": "markdown",
   "metadata": {
    "id": "pOzaIRYBhqwg"
   },
   "source": [
    "## Next steps\n",
    "\n",
    "This tutorial was a quick introduction to time series forecasting using TensorFlow.\n",
    "\n",
    "* For further understanding, see:\n",
    "  * Chapter 15 of [Hands-on Machine Learning with Scikit-Learn, Keras, and TensorFlow](https://www.oreilly.com/library/view/hands-on-machine-learning/9781492032632/), 2nd Edition \n",
    "  * Chapter 6 of [Deep Learning with Python](https://www.manning.com/books/deep-learning-with-python).\n",
    "  * Lesson 8 of [Udacity's intro to TensorFlow for deep learning](https://www.udacity.com/course/intro-to-tensorflow-for-deep-learning--ud187), and the [exercise notebooks](https://github.com/tensorflow/examples/tree/master/courses/udacity_intro_to_tensorflow_for_deep_learning) \n",
    "* Also remember that you can implement any [classical time series model](https://otexts.com/fpp2/index.html) in TensorFlow, this tutorial just focuses on TensorFlow's built-in functionality."
   ]
  },
  {
   "cell_type": "code",
   "execution_count": null,
   "metadata": {},
   "outputs": [],
   "source": []
  }
 ],
 "metadata": {
  "accelerator": "GPU",
  "colab": {
   "collapsed_sections": [],
   "name": "time_series.ipynb",
   "toc_visible": true
  },
  "kernelspec": {
   "display_name": "Python 3",
   "language": "python",
   "name": "python3"
  },
  "language_info": {
   "codemirror_mode": {
    "name": "ipython",
    "version": 3
   },
   "file_extension": ".py",
   "mimetype": "text/x-python",
   "name": "python",
   "nbconvert_exporter": "python",
   "pygments_lexer": "ipython3",
   "version": "3.9.2"
  }
 },
 "nbformat": 4,
 "nbformat_minor": 4
}
