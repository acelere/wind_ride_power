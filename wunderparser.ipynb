{
 "cells": [
  {
   "cell_type": "code",
   "execution_count": 4,
   "metadata": {},
   "outputs": [],
   "source": [
    "# wunder parser\n",
    "from bs4 import BeautifulSoup\n",
    "from selenium import webdriver\n",
    "import sys\n",
    "import pandas as pd\n",
    "\n",
    "#this is for testing only\n",
    "station_id_list = ['CWSN', 'CYXU']\n",
    "ride_day = 10\n",
    "ride_month = 5\n",
    "ride_year = 2004\n",
    "station_index = 1\n",
    "\n",
    "url = 'https://www.wunderground.com/history/daily/'+str(station_id_list[station_index])+ \\\n",
    "'/date/' + str(ride_year) + '-' + str(ride_month) + '-'+str(ride_day)\n",
    "\n",
    "\n",
    "#url = 'https://www.wunderground.com/history/daily/CYXU/date/2004-5-10'\n",
    "\n",
    "# instantiate webdriver and get data\n",
    "# you need firefox bynary and the geckodriver installed\n",
    "# the geckodriver interfaces with firefox to get the page and pass the data back\n",
    "wd = webdriver.Firefox()\n",
    "wd.get(url)\n",
    "\n",
    "soup = BeautifulSoup(wd.page_source, 'lxml')\n",
    "\n",
    "wd.quit()"
   ]
  },
  {
   "cell_type": "code",
   "execution_count": 5,
   "metadata": {},
   "outputs": [],
   "source": [
    "#find all tables\n",
    "data_found = False\n",
    "tables = soup.find_all('table')\n",
    "if not tables:\n",
    "    data_found = False\n",
    "else:\n",
    "    # we get 3 tables: 0=empty; 1=records; 2=hourly data\n",
    "    # we want only table 2\n",
    "\n",
    "    table = tables[2]\n",
    "\n",
    "    # parse table - first the header\n",
    "    table_head = table.findAll('th')\n",
    "    output_head = []\n",
    "    for head in table_head:\n",
    "        output_head.append(head.text.strip())\n",
    "\n",
    "    # create empty dataframe\n",
    "    weather_data = pd.DataFrame(columns=output_head)\n",
    "\n",
    "    # parse rows\n",
    "    output_rows = []\n",
    "    rows = table.findAll('tr')\n",
    "    for row in rows:\n",
    "        columns = row.findAll('td')\n",
    "        clean_row = []\n",
    "        for column in columns:\n",
    "            clean_row.append(column.text.strip().replace(u'\\xa0', '') #this is to remove unwanted characters\n",
    "                             .replace('mph', '') \n",
    "                             .replace('F', '')\n",
    "                             .replace('in', ''))\n",
    "        if len(clean_row) > 0: # discard row if it is empty\n",
    "            output_rows.append(clean_row)\n",
    "\n",
    "    # add it all to the dataframe\n",
    "    weather_data = pd.DataFrame(columns=output_head, data=output_rows).apply(pd.to_numeric, errors='ignore')\n",
    "\n",
    "    # substitute wind direction for numeric headings\n",
    "    wind_dir_dict = {\"N\":0,\"NNE\":22.5,\"NE\":45,\"ENE\":67.5,\n",
    "                     \"E\":90,\"ESE\":112.5, \"SE\":135, \"SSE\":157.5,\n",
    "                     \"S\":180,\"SSW\":202.5,\"SW\":225,\"WSW\":247.5,\n",
    "                     \"W\":270,\"WNW\":292.5,\"NW\":315,\"NNW\":337.5}\n",
    "\n",
    "    weather_data['Wind_Dir'] = weather_data['Wind'].map(wind_dir_dict)\n",
    "\n",
    "    #make time something useful\n",
    "    weather_data['Time'] = pd.to_datetime(weather_data['Time'].apply(lambda x : str(ride_year)+\n",
    "                                                                     '-'+str(ride_month)+\n",
    "                                                                     '-'+str(ride_day)+\n",
    "                                                                     ' '+x))\n",
    "    data_found = True"
   ]
  },
  {
   "cell_type": "code",
   "execution_count": 6,
   "metadata": {},
   "outputs": [
    {
     "data": {
      "text/plain": [
       "True"
      ]
     },
     "execution_count": 6,
     "metadata": {},
     "output_type": "execute_result"
    }
   ],
   "source": [
    "data_found"
   ]
  },
  {
   "cell_type": "code",
   "execution_count": null,
   "metadata": {},
   "outputs": [],
   "source": [
    "ss = []\n",
    "if not ss:\n",
    "    print(\" it is empty\")"
   ]
  },
  {
   "cell_type": "code",
   "execution_count": null,
   "metadata": {},
   "outputs": [],
   "source": []
  }
 ],
 "metadata": {
  "kernelspec": {
   "display_name": "Python 3",
   "language": "python",
   "name": "python3"
  },
  "language_info": {
   "codemirror_mode": {
    "name": "ipython",
    "version": 3
   },
   "file_extension": ".py",
   "mimetype": "text/x-python",
   "name": "python",
   "nbconvert_exporter": "python",
   "pygments_lexer": "ipython3",
   "version": "3.8.2"
  }
 },
 "nbformat": 4,
 "nbformat_minor": 4
}
