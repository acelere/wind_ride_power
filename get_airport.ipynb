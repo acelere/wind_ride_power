{
 "cells": [
  {
   "cell_type": "code",
   "execution_count": 1,
   "metadata": {},
   "outputs": [],
   "source": [
    "import xml.etree.ElementTree as ET\n",
    "import urllib.request"
   ]
  },
  {
   "cell_type": "code",
   "execution_count": 2,
   "metadata": {},
   "outputs": [],
   "source": [
    "url = 'http://aviationweather.gov/adds/dataserver_current/httpparam?dataSource=stations&requestType=retrieve&format=xml&radialDistance=20;-81.275376,43.024538'"
   ]
  },
  {
   "cell_type": "code",
   "execution_count": 3,
   "metadata": {},
   "outputs": [
    {
     "name": "stdout",
     "output_type": "stream",
     "text": [
      "b'<?xml version=\"1.0\" encoding=\"UTF-8\"?>\\r\\n<response xmlns:xsd=\"http://www.w3.org/2001/XMLSchema\" xmlns:xsi=\"http://www.w3.org/2001/XML-Schema-instance\" version=\"1.0\" xsi:noNamespaceSchemaLocation=\"http://weather.aero/schema/station1_0.xsd\">\\r\\n  <request_index>16033511</request_index>\\r\\n  <data_source name=\"stations\" />\\r\\n  <request type=\"retrieve\" />\\r\\n  <errors />\\r\\n  <warnings />\\r\\n  <time_taken_ms>5</time_taken_ms>\\r\\n  <data num_results=\"2\">\\r\\n    <Station>\\r\\n      <station_id>CWSN</station_id>\\r\\n      <wmo_id>71622</wmo_id>\\r\\n      <latitude>43.03</latitude>\\r\\n      <longitude>-81.15</longitude>\\r\\n      <elevation_m>278.0</elevation_m>\\r\\n      <site>LONDON CS</site>\\r\\n      <state>ON</state>\\r\\n      <country>CA</country>\\r\\n      <site_type>\\r\\n        <METAR />\\r\\n        <TAF />\\r\\n      </site_type>\\r\\n    </Station>\\r\\n    <Station>\\r\\n      <station_id>CYXU</station_id>\\r\\n      <wmo_id>71623</wmo_id>\\r\\n      <latitude>43.02</latitude>\\r\\n      <longitude>-81.15</longitude>\\r\\n      <elevation_m>278.0</elevation_m>\\r\\n      <site>LONDON AIRPORT</site>\\r\\n      <state>ON</state>\\r\\n      <country>CA</country>\\r\\n      <site_type>\\r\\n        <METAR />\\r\\n        <TAF />\\r\\n      </site_type>\\r\\n    </Station>\\r\\n  </data>\\r\\n</response>\\r\\n\\r\\n'\n"
     ]
    },
    {
     "data": {
      "text/plain": [
       "[]"
      ]
     },
     "execution_count": 3,
     "metadata": {},
     "output_type": "execute_result"
    }
   ],
   "source": [
    "source = urllib.request.urlopen(url).read()\n",
    "print(source)\n",
    "#tree = ET.fromstring(source)\n",
    "tree = ET.ElementTree(ET.fromstring(source))\n",
    "root = tree.getroot()\n",
    "namespace = {'airpt':'http://weather.aero/schema/station1_0.xsd'}\n",
    "tree.findall('Station')"
   ]
  },
  {
   "cell_type": "code",
   "execution_count": null,
   "metadata": {},
   "outputs": [],
   "source": [
    "for data in root.findall('airpt:Station', namespace):\n",
    "    print(data)"
   ]
  },
  {
   "cell_type": "code",
   "execution_count": null,
   "metadata": {},
   "outputs": [],
   "source": [
    "for child in root:\n",
    "    print(child.tag, child.attrib)"
   ]
  },
  {
   "cell_type": "code",
   "execution_count": 5,
   "metadata": {},
   "outputs": [
    {
     "name": "stdout",
     "output_type": "stream",
     "text": [
      "<Element 'station_id' at 0x7f16a062dd68>\n",
      "<Element 'station_id' at 0x7f16a0644278>\n"
     ]
    }
   ],
   "source": [
    "for data in root.findall('data'):\n",
    "\n",
    "    for station in data.findall('Station'):\n",
    "        for station_ident in station.findall('station_id'):\n",
    "            print(station_ident)\n",
    "            #print(station_ident.text)"
   ]
  },
  {
   "cell_type": "code",
   "execution_count": null,
   "metadata": {},
   "outputs": [],
   "source": []
  }
 ],
 "metadata": {
  "kernelspec": {
   "display_name": "Python 3",
   "language": "python",
   "name": "python3"
  },
  "language_info": {
   "codemirror_mode": {
    "name": "ipython",
    "version": 3
   },
   "file_extension": ".py",
   "mimetype": "text/x-python",
   "name": "python",
   "nbconvert_exporter": "python",
   "pygments_lexer": "ipython3",
   "version": "3.7.2"
  }
 },
 "nbformat": 4,
 "nbformat_minor": 2
}
