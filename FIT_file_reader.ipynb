{
 "cells": [
  {
   "cell_type": "markdown",
   "metadata": {},
   "source": [
    "This notebook reads a directory of FIT files and assembles all data into a pandas dataframe"
   ]
  },
  {
   "cell_type": "code",
   "execution_count": null,
   "metadata": {
    "tags": []
   },
   "outputs": [],
   "source": [
    "import numpy as np\n",
    "import pandas as pd\n",
    "\n",
    "import time, sys\n",
    "\n",
    "#import xml.etree.ElementTree as ET\n",
    "#import lxml.etree\n",
    "import fitparse\n",
    "\n",
    "#import datetime\n",
    "#from datetime import datetime, timedelta\n",
    "\n",
    "#import dateutil.parser as dp\n",
    "\n",
    "import os\n",
    "\n",
    "\n",
    "\n",
    "#debug = True\n",
    "\n",
    "input_types = ['FIT', 'TCX', 'GPX']\n",
    "input_type = input_types[0]\n"
   ]
  },
  {
   "cell_type": "markdown",
   "metadata": {},
   "source": [
    "FIT file input (it has more data than the TCX export)"
   ]
  },
  {
   "cell_type": "code",
   "execution_count": null,
   "metadata": {
    "tags": []
   },
   "outputs": [],
   "source": [
    "def get_data_from_record(record):\n",
    "    new_record = {}\n",
    "    for data in record:\n",
    "        #____\n",
    "        if data.name.find('accumulated_power') >= 0:\n",
    "            new_record['acc_power'] = data.value\n",
    "        if data.name.find('cadence') >= 0 and data.name.find('cadence') < 8:\n",
    "            new_record['cadence'] = data.value\n",
    "        if data.name.find('latitude') >= 0:\n",
    "            new_record['lat'] = data.value\n",
    "        if data.name.find('longitude') >= 0:\n",
    "            new_record['lon'] = data.value\n",
    "        if data.name.find('elevation') >= 0:\n",
    "            new_record['elev'] = data.value\n",
    "        if data.name.find('timestamp') >= 0:\n",
    "            new_record['ts'] = data.value\n",
    "        if data.name.find('heart_rate') >= 0:\n",
    "            new_record['heart_rate'] = data.value\n",
    "        if data.name.find('fractional_cadence') >= 0:\n",
    "            new_record['frac_cadence'] = data.value\n",
    "        if data.name.find('speed') >= 0:\n",
    "            new_record['gs'] = data.value\n",
    "        if data.name.find('enhanced_speed') >= 0:\n",
    "            new_record['e_gs'] = data.value\n",
    "        if data.name.find('power') >= 0:\n",
    "            new_record['m_power'] = data.value\n",
    "        if data.name.find('resistance') >= 0:\n",
    "            new_record['resist'] = data.value\n",
    "        if data.name.find('temperature') >= 0:\n",
    "            new_record['amb_temp'] = data.value\n",
    "        if data.name.find('distance') >= 0:\n",
    "            new_record['dist'] = data.value\n",
    "    \n",
    "    return new_record"
   ]
  },
  {
   "cell_type": "code",
   "execution_count": null,
   "metadata": {
    "tags": []
   },
   "outputs": [],
   "source": [
    "def read_FIT_file(fitfilename):\n",
    "    # Load the FIT file\n",
    "    fitfile = fitparse.FitFile(fitfilename)\n",
    "\n",
    "    # Iterate over all messages of type \"record\"\n",
    "    # (other types include \"device_info\", \"file_creator\", \"event\", etc)\n",
    "    # accumulated power in kJ\n",
    "\n",
    "    track = pd.DataFrame()\n",
    "    #msg_count = 0 #debug\n",
    "    #n_msg = 300 #debug\n",
    "    \n",
    "    for record in fitfile.get_messages(\"record\"):\n",
    "\n",
    "        # Records can contain multiple pieces of data (ex: timestamp, latitude, longitude, etc)\n",
    "        new_record = get_data_from_record(record)\n",
    "        track = track.append(new_record, ignore_index=True)\n",
    "        #print(new_record) #debub\n",
    "        #msg_count += 1 #debug\n",
    "        #if msg_count > n_msg: break #debug\n",
    "    track['delta_t'] = track['ts'].diff().dt.total_seconds()\n",
    "    track['delta_cad'] = track['cadence'].diff()\n",
    "    track.dropna(inplace=True)\n",
    "    # clean up the index after dropping first row\n",
    "    track.reset_index(0, inplace=True)\n",
    "    track.drop('index', axis=1, inplace=True)\n",
    "    #track.set_index('ts', inplace=True)\n",
    "    return track"
   ]
  },
  {
   "cell_type": "code",
   "execution_count": null,
   "metadata": {},
   "outputs": [],
   "source": [
    "directories = ['./sample_data']\n",
    "\n",
    "data_files = []\n",
    "for directory in directories:\n",
    "    for filename in os.listdir(directory):\n",
    "        #if filename.endswith(\".zip\") or filename.endswith(\".py\"): \n",
    "        if filename.endswith(\".fit\"): \n",
    "            #print(os.path.join(directory, filename))\n",
    "            data_files.append(os.path.join(directory, filename))\n",
    "        else:\n",
    "            continue"
   ]
  },
  {
   "cell_type": "code",
   "execution_count": null,
   "metadata": {},
   "outputs": [],
   "source": [
    "tracks = pd.DataFrame()\n",
    "for input_file in data_files:\n",
    "    \n",
    "    print(f'Building track database for file {input_file}')\n",
    "    start_time = time.time()\n",
    "\n",
    "    if input_type == 'FIT':\n",
    "        track = read_FIT_file(input_file)\n",
    "    if input_type == 'TCX':\n",
    "        laps_df, track = get_dataframes(input_file)\n",
    "    if input_type == 'GPX':\n",
    "        track = read_GPX_file(input_file)\n",
    "    end_time = time.time()\n",
    "    print()\n",
    "    print('Track build time was {:1.1f} seconds'.format(end_time - start_time))\n",
    "    tracks = tracks.append(track)"
   ]
  },
  {
   "cell_type": "code",
   "execution_count": null,
   "metadata": {},
   "outputs": [],
   "source": [
    "tracks.head()"
   ]
  },
  {
   "cell_type": "code",
   "execution_count": null,
   "metadata": {},
   "outputs": [],
   "source": []
  }
 ],
 "metadata": {
  "kernelspec": {
   "display_name": "Python 3",
   "language": "python",
   "name": "python3"
  },
  "language_info": {
   "codemirror_mode": {
    "name": "ipython",
    "version": 3
   },
   "file_extension": ".py",
   "mimetype": "text/x-python",
   "name": "python",
   "nbconvert_exporter": "python",
   "pygments_lexer": "ipython3",
   "version": "3.7.9"
  }
 },
 "nbformat": 4,
 "nbformat_minor": 4
}
